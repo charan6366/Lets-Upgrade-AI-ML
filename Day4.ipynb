{
 "cells": [
  {
   "cell_type": "markdown",
   "metadata": {},
   "source": [
    "Research on whether addition, subtraction, multiplication, division, floor division and modulo\n",
    "operations be performed on complex numbers. Based on your study, implement a Python\n",
    "program to demonstrate these operations.\n"
   ]
  },
  {
   "cell_type": "code",
   "execution_count": 1,
   "metadata": {},
   "outputs": [
    {
     "name": "stdout",
     "output_type": "stream",
     "text": [
      "enter first complex number3+4j\n",
      "enter second complex number12+13j\n",
      "addition of 2 complex numbers : (15+17j)\n",
      "subtraction of 2 complex numbers: (-9-9j)\n",
      "multiplication of 2 complex numbers: (-16+87j)\n",
      "division of 2 complex numbers : (0.28115015974440893+0.02875399361022365j)\n"
     ]
    }
   ],
   "source": [
    "def add(num1,num2):\n",
    "    n=num1+num2\n",
    "    print(\"addition of 2 complex numbers :\",n)\n",
    "def sub(num1,num2):\n",
    "    n=num1-num2\n",
    "    print(\"subtraction of 2 complex numbers:\",n)\n",
    "def mul(num1,num2):\n",
    "    n=num1*num2\n",
    "    print(\"multiplication of 2 complex numbers:\",n)\n",
    "def div(num1,num2):\n",
    "    n=num1/num2\n",
    "    print(\"division of 2 complex numbers :\",n)\n",
    "x=complex(input(\"enter first complex number\"))\n",
    "y=complex(input(\"enter second complex number\"))\n",
    "add(x,y)\n",
    "\n",
    "sub(x,y)\n",
    "\n",
    "mul(x,y)\n",
    "\n",
    "div(x,y)"
   ]
  },
  {
   "cell_type": "markdown",
   "metadata": {},
   "source": [
    "Research on range() functions and its parameters. Create a markdown cell and write in your own\n",
    "words (no copy-paste from google please) what you understand about it. Implement a small\n",
    "program of your choice on the same."
   ]
  },
  {
   "cell_type": "markdown",
   "metadata": {},
   "source": [
    "range() function can be mostly used in 3 ways\n",
    "\n",
    "range(last)\n",
    "range(first,last)\n",
    "range(first,last,difference)\n",
    "Arguments given in function dentoes\n",
    "first :\n",
    "integer starting from which the sequence of integers is to be returned\n",
    "last:\n",
    "integer before which the sequence of integers is to be returned. The range of integers end at stop – 1.\n",
    "difference:\n",
    "integer value which determines the increment between each integer in the sequence\n",
    "\n"
   ]
  },
  {
   "cell_type": "markdown",
   "metadata": {},
   "source": [
    "example for each type\n"
   ]
  },
  {
   "cell_type": "markdown",
   "metadata": {},
   "source": [
    "1.range(stop)"
   ]
  },
  {
   "cell_type": "code",
   "execution_count": 2,
   "metadata": {},
   "outputs": [
    {
     "name": "stdout",
     "output_type": "stream",
     "text": [
      "0\n",
      "1\n",
      "2\n",
      "3\n",
      "4\n",
      "5\n",
      "6\n"
     ]
    }
   ],
   "source": [
    "for i in range(7):\n",
    "    print(i)"
   ]
  },
  {
   "cell_type": "markdown",
   "metadata": {},
   "source": [
    "2.range(start,stop)\n"
   ]
  },
  {
   "cell_type": "code",
   "execution_count": 3,
   "metadata": {},
   "outputs": [
    {
     "name": "stdout",
     "output_type": "stream",
     "text": [
      "3\n",
      "4\n",
      "5\n",
      "6\n"
     ]
    }
   ],
   "source": [
    "for i in range(3,7):\n",
    "    print(i)"
   ]
  },
  {
   "cell_type": "markdown",
   "metadata": {},
   "source": [
    "3.range(first,last,difference)\n"
   ]
  },
  {
   "cell_type": "code",
   "execution_count": 6,
   "metadata": {},
   "outputs": [
    {
     "name": "stdout",
     "output_type": "stream",
     "text": [
      "1\n",
      "8\n",
      "15\n"
     ]
    }
   ],
   "source": [
    "for i in range(1,20,7):\n",
    "    print(i)\n"
   ]
  },
  {
   "cell_type": "markdown",
   "metadata": {},
   "source": [
    " Consider two numbers. Perform their subtraction and if the result of subtraction is greater than\n",
    "25, print their multiplication result else print their division result."
   ]
  },
  {
   "cell_type": "code",
   "execution_count": 9,
   "metadata": {},
   "outputs": [
    {
     "name": "stdout",
     "output_type": "stream",
     "text": [
      "enter first number7\n",
      "enter second number5\n",
      "number is lessthan 25\n",
      "division result is : 1.4\n"
     ]
    }
   ],
   "source": [
    "x=int(input('enter first number'))\n",
    "y=int(input('enter second number'))\n",
    "z=x-y\n",
    "if z>25:\n",
    "    print(\"number is greater than  25\")\n",
    "    print(\"multiplication result is :\",x*y)\n",
    "else:\n",
    "    print(\"number is lessthan 25\")\n",
    "    print(\"division result is :\",x/y)"
   ]
  },
  {
   "cell_type": "markdown",
   "metadata": {},
   "source": [
    "Consider a list of 10 elements of integer values. If the number in the list is divisible by 2, print the\n",
    "result as \"square of that number minus 2\"."
   ]
  },
  {
   "cell_type": "code",
   "execution_count": 10,
   "metadata": {},
   "outputs": [
    {
     "name": "stdout",
     "output_type": "stream",
     "text": [
      "square of that number minus 2 is : 398\n",
      "square of that number minus 2 is : 2914\n",
      "square of that number minus 2 is : 8462\n",
      "square of that number minus 2 is : 898\n",
      "square of that number minus 2 is : 142\n",
      "square of that number minus 2 is : 1442\n",
      "square of that number minus 2 is : 11662\n"
     ]
    }
   ],
   "source": [
    "list=[20,71,54,92,30,12,31,29,38,108]\n",
    "for i in range(len(list)):\n",
    "    if(list[i]%2==0):\n",
    "        print( \"square of that number minus 2 is :\",list[i]**2-2)"
   ]
  },
  {
   "cell_type": "markdown",
   "metadata": {},
   "source": [
    "Consider a list of 10 elements. Print all the elements in the list which are greater than 7 when that\n",
    "number is divided 2."
   ]
  },
  {
   "cell_type": "code",
   "execution_count": 11,
   "metadata": {},
   "outputs": [
    {
     "name": "stdout",
     "output_type": "stream",
     "text": [
      "104\n",
      "482\n",
      "99\n",
      "50\n",
      "275\n",
      "249\n",
      "683\n"
     ]
    }
   ],
   "source": [
    "list=[104,482,99,5,50,275,249,11,8,14,683]\n",
    "for i in range(len(list)):\n",
    "    if(list[i]/2>7):\n",
    "        print(list[i])"
   ]
  }
 ],
 "metadata": {
  "kernelspec": {
   "display_name": "Python 3",
   "language": "python",
   "name": "python3"
  },
  "language_info": {
   "codemirror_mode": {
    "name": "ipython",
    "version": 3
   },
   "file_extension": ".py",
   "mimetype": "text/x-python",
   "name": "python",
   "nbconvert_exporter": "python",
   "pygments_lexer": "ipython3",
   "version": "3.7.6"
  }
 },
 "nbformat": 4,
 "nbformat_minor": 4
}
