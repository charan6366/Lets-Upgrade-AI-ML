{
 "cells": [
  {
   "cell_type": "markdown",
   "metadata": {},
   "source": [
    "Write a Python program to find the first 20 non-even prime natural numbers"
   ]
  },
  {
   "cell_type": "code",
   "execution_count": 17,
   "metadata": {},
   "outputs": [
    {
     "name": "stdout",
     "output_type": "stream",
     "text": [
      "how many prime numbers required??9\n",
      "3 5 7 11 13 17 19 23 29 "
     ]
    }
   ],
   "source": [
    "h=int(input(\"how many prime numbers required??\"))\n",
    "nos=range(1,h*10)\n",
    "prime_nums=[]\n",
    "for num in nos:\n",
    "    if num>2 and len(prime_nums)<h:\n",
    "        for i in range(2,num):\n",
    "            if(num%i==0):\n",
    "                break\n",
    "        else:\n",
    "                prime_nums.append(num)\n",
    "for h in prime_nums:\n",
    "    print(h,end=' ')"
   ]
  },
  {
   "cell_type": "markdown",
   "metadata": {},
   "source": [
    "Write a Python program to implement 15 functions of string.\n"
   ]
  },
  {
   "cell_type": "code",
   "execution_count": 4,
   "metadata": {},
   "outputs": [
    {
     "name": "stdout",
     "output_type": "stream",
     "text": [
      "hello world\n",
      "HELLO WORLD\n",
      "hELLO WORLD\n",
      "LHello worldeHello worldtHello worldsHello worldUHello worldpHello worldgHello worldrHello worldaHello worlddHello worlde\n",
      "True\n",
      "4\n",
      "False\n",
      "3\n",
      "False\n",
      "Letsupgrade\n",
      "9\n",
      "('LetsUpgrade', '', '')\n",
      "LetsUpgrAde\n",
      "hello world\n",
      "Hello World\n",
      "['LetsUpgrade']\n"
     ]
    }
   ],
   "source": [
    "string1=\"Hello world\"\n",
    "string2=\"LetsUpgrade\"\n",
    "print(string1.lower()) #Converts a string into upper case\n",
    "print(string1.upper()) #Converts a string into lower case\n",
    "print(string1.swapcase()) #swap cases\n",
    "print(string1.join(string2)) #Joins the elements of an iterable to the end of the string\n",
    "print(string2.isalnum()) #Returns True if all characters in the string are alphanumeric\n",
    "print(string1.find('o')) #Searches the string for a specified value and returns the position of where it was found\n",
    "print(string1.endswith('e')) #Returns true if the string ends with the specified value\n",
    "print(string1.count('l')) #Returns the number of times a specified value occurs in a string\n",
    "print(string1.startswith('h'))#Returns true if the string starts with the specified value\n",
    "print(string2.capitalize()) #Returns the number of times a specified value occurs in a string\n",
    "print(string1.rindex('l')) #Searches the string for a specified value and returns the last position of where it was found\n",
    "print(string2.partition('/')) #Returns a tuple where the string is parted into three parts\n",
    "print(string2.replace('a','A')) #Returns a string where a specified value is replaced with a specified value\n",
    "string3=\"   hello world\"\n",
    "print(string3.strip()) #Returns a trimmed version of the string\n",
    "print(string1.title()) #Converts the first character of each word to upper case\n",
    "print(string2.split('/')) #Splits the string at the specified separator, and returns a list"
   ]
  },
  {
   "cell_type": "markdown",
   "metadata": {},
   "source": [
    "Write a Python program to check if the given string is a Palindrome or Anagram or None of them.\n",
    "Display the message accordingly to the user.\n"
   ]
  },
  {
   "cell_type": "code",
   "execution_count": 5,
   "metadata": {},
   "outputs": [
    {
     "name": "stdout",
     "output_type": "stream",
     "text": [
      "enter first string :mom\n",
      "enter second string :file\n",
      "it is a palindrome\n"
     ]
    }
   ],
   "source": [
    "string_1=input(\"enter first string :\")\n",
    "string_2=input(\"enter second string :\")\n",
    "list_1=[]\n",
    "rev_list1=[]\n",
    "list_2=[]\n",
    "for i in string_1:\n",
    "    list_1.append(i)\n",
    "    rev_list1.insert(0,i)\n",
    "if str(list_1)==str(rev_list1) and sorted(string_1)==sorted(string_2):\n",
    "    print(\"both palindrome and anagram\")    \n",
    "elif str(list_1)==str(rev_list1):\n",
    "    print(\"It is a palindrome\")    \n",
    "else:\n",
    "    if sorted(string_1)==sorted(string_2):\n",
    "        print(\"It is Anagram\")  \n",
    "    else:\n",
    "        print(\"none\")"
   ]
  },
  {
   "cell_type": "markdown",
   "metadata": {},
   "source": [
    "Write a Python's user defined function that removes all the additional characters from the string\n",
    "and converts it finally to lower case using built-in lower(). eg: If the string is \"Dr. Darshan Ingle\n",
    "@AI-ML Trainer\", then the output be \"drdarshaningleaimltrainer\"."
   ]
  },
  {
   "cell_type": "code",
   "execution_count": 15,
   "metadata": {},
   "outputs": [
    {
     "name": "stdout",
     "output_type": "stream",
     "text": [
      "string is :  Dr. Darshan Ingle@AI-ML Trainer\n",
      "remove all the invalid chars\n",
      "string is drdarshaningleaimltrainer\n"
     ]
    }
   ],
   "source": [
    "def remove_char(x):\n",
    "    invalid_char=['!','@','#','$','%','^','&','*','(',')','-','_',';',':',',','.','?',' ']\n",
    "    for i in invalid_char:\n",
    "        x=x.replace(i,'')\n",
    "        x=x.lower()\n",
    "    print(\"remove all the invalid chars\")\n",
    "    print(\"string is\",x)\n",
    "string= \"Dr. Darshan Ingle@AI-ML Trainer\"\n",
    "print(\"string is : \",string)\n",
    "remove_char(string)\n"
   ]
  }
 ],
 "metadata": {
  "kernelspec": {
   "display_name": "Python 3",
   "language": "python",
   "name": "python3"
  },
  "language_info": {
   "codemirror_mode": {
    "name": "ipython",
    "version": 3
   },
   "file_extension": ".py",
   "mimetype": "text/x-python",
   "name": "python",
   "nbconvert_exporter": "python",
   "pygments_lexer": "ipython3",
   "version": "3.7.6"
  }
 },
 "nbformat": 4,
 "nbformat_minor": 4
}
