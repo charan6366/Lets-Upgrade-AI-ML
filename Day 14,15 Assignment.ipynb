{
 "cells": [
  {
   "cell_type": "markdown",
   "metadata": {},
   "source": [
    "# 1. Create a 3x3x3 array with random values "
   ]
  },
  {
   "cell_type": "code",
   "execution_count": 1,
   "metadata": {},
   "outputs": [
    {
     "name": "stdout",
     "output_type": "stream",
     "text": [
      "[[[0.66625872 0.34319015 0.74767127]\n",
      "  [0.221982   0.59019323 0.77359453]\n",
      "  [0.94988815 0.54709022 0.42444006]]\n",
      "\n",
      " [[0.70690945 0.07981344 0.27502781]\n",
      "  [0.29528061 0.10161011 0.54641426]\n",
      "  [0.85882573 0.39186523 0.14034776]]\n",
      "\n",
      " [[0.73191109 0.24415387 0.06043509]\n",
      "  [0.18821446 0.03116896 0.18200376]\n",
      "  [0.08946607 0.52929697 0.16518806]]]\n"
     ]
    }
   ],
   "source": [
    "import numpy as np\n",
    "b = np.random.random((3,3,3))\n",
    "print(b)\n"
   ]
  },
  {
   "cell_type": "markdown",
   "metadata": {},
   "source": [
    "# 2.Create a 5x5 matrix with values 1,2,3,4 just below the diagonal"
   ]
  },
  {
   "cell_type": "code",
   "execution_count": 13,
   "metadata": {},
   "outputs": [
    {
     "name": "stdout",
     "output_type": "stream",
     "text": [
      "[[1. 0. 0. 0. 0.]\n",
      " [1. 1. 0. 0. 0.]\n",
      " [0. 2. 1. 0. 0.]\n",
      " [0. 0. 3. 1. 0.]\n",
      " [0. 0. 0. 4. 1.]]\n"
     ]
    }
   ],
   "source": [
    "c = np.eye(5,5)\n",
    "for i in range(1,5):\n",
    "    c[i,i-1] = i\n",
    "print(c)\n"
   ]
  },
  {
   "cell_type": "markdown",
   "metadata": {},
   "source": [
    "# 3.Create a 8x8 matrix and fill it with a checkerboard pattern"
   ]
  },
  {
   "cell_type": "code",
   "execution_count": 22,
   "metadata": {},
   "outputs": [
    {
     "name": "stdout",
     "output_type": "stream",
     "text": [
      "0 1 0 1 0 1 0 1 \n",
      "\n",
      "1 0 1 0 1 0 1 0 \n",
      "\n",
      "0 1 0 1 0 1 0 1 \n",
      "\n",
      "1 0 1 0 1 0 1 0 \n",
      "\n",
      "0 1 0 1 0 1 0 1 \n",
      "\n",
      "1 0 1 0 1 0 1 0 \n",
      "\n",
      "0 1 0 1 0 1 0 1 \n",
      "\n",
      "1 0 1 0 1 0 1 0 \n",
      "\n"
     ]
    }
   ],
   "source": [
    "c1 = np.eye(5,5)\n",
    "for i in range (1,9):\n",
    "    for j in range (1,9):\n",
    "        if(i%2==0):\n",
    "            if(j%2==0):\n",
    "                 print(0,end=\" \")\n",
    "            else:\n",
    "                print(1,end=\" \")\n",
    "        else:\n",
    "            if(j%2==0):\n",
    "                 print(1,end=\" \")\n",
    "            else:\n",
    "                print(0,end=\" \")\n",
    "            \n",
    "    print('\\n')"
   ]
  },
  {
   "cell_type": "markdown",
   "metadata": {},
   "source": [
    "# 4. Normalize a 5x5 random matrix"
   ]
  },
  {
   "cell_type": "code",
   "execution_count": 23,
   "metadata": {},
   "outputs": [
    {
     "name": "stdout",
     "output_type": "stream",
     "text": [
      "Array:  [[0.54706556 0.38689972 0.45538172 0.94057215 0.9199631 ]\n",
      " [0.0915428  0.29985893 0.71370492 0.47872074 0.26066112]\n",
      " [0.90127498 0.34085607 0.72846584 0.65786098 0.39119965]\n",
      " [0.75856856 0.40304063 0.45639916 0.90961318 0.05736729]\n",
      " [0.41058173 0.30929437 0.12712392 0.36156537 0.44367591]]\n",
      "Normalized Array: [[0.19686853 0.13923081 0.16387493 0.33847691 0.33106048]\n",
      " [0.03294285 0.10790807 0.25683584 0.17227378 0.09380223]\n",
      " [0.32433532 0.12266141 0.26214774 0.23673968 0.1407782 ]\n",
      " [0.27298059 0.14503932 0.16424107 0.32733593 0.02064435]\n",
      " [0.14775308 0.11130353 0.04574717 0.13011392 0.15966245]]\n"
     ]
    }
   ],
   "source": [
    "\n",
    "arr = np.random.rand(5,5)\n",
    "print(\"Array: \",arr)\n",
    "normal = np.linalg.norm(arr)\n",
    "normal_array=arr/normal\n",
    "print(\"Normalized Array:\",normal_array)\n"
   ]
  },
  {
   "cell_type": "markdown",
   "metadata": {},
   "source": [
    "# 5.  How to find common values between two arrays?"
   ]
  },
  {
   "cell_type": "code",
   "execution_count": 24,
   "metadata": {},
   "outputs": [
    {
     "name": "stdout",
     "output_type": "stream",
     "text": [
      "Common Values:  [3 6 9]\n"
     ]
    }
   ],
   "source": [
    "a1 = np.array([1,2,6,3,4,5,7,9])\n",
    "a2= np.array([11,6,8,12,3,77,30,9,55,81])\n",
    "print(\"Common Values: \",np.intersect1d(a1,a2))"
   ]
  },
  {
   "cell_type": "markdown",
   "metadata": {},
   "source": [
    "# 6.How to get the dates of yesterday, today and tomorrow?"
   ]
  },
  {
   "cell_type": "code",
   "execution_count": 25,
   "metadata": {},
   "outputs": [
    {
     "name": "stdout",
     "output_type": "stream",
     "text": [
      "Yesterday:  2020-07-25\n",
      "Today:  2020-07-26\n",
      "Tomorrow:  2020-07-27\n"
     ]
    }
   ],
   "source": [
    "import datetime\n",
    "today=datetime.date.today()\n",
    "yesterday=today - datetime.timedelta(days=1)\n",
    "tomorrow = today+datetime.timedelta(days=1)\n",
    "\n",
    "print(\"Yesterday: \",yesterday)\n",
    "print(\"Today: \",today)\n",
    "print(\"Tomorrow: \",tomorrow)\n"
   ]
  },
  {
   "cell_type": "markdown",
   "metadata": {},
   "source": [
    "# 7. Consider two random array A and B, check if they are equal"
   ]
  },
  {
   "cell_type": "code",
   "execution_count": null,
   "metadata": {},
   "outputs": [],
   "source": [
    "a3=np.random.rand(3,3)\n",
    "a4=np.random.rand(3,3)\n",
    "print(\"a3:\",a3)\n",
    "print(\"a4:\",a4)\n",
    "if (a3==a4).all():\n",
    "    print(\"They are equal\")\n",
    "else:\n",
    "    print(\"They are not equal\")"
   ]
  },
  {
   "cell_type": "markdown",
   "metadata": {},
   "source": [
    "# 8.Create random vector of size 10 and replace the maximum value by 0 "
   ]
  },
  {
   "cell_type": "code",
   "execution_count": 26,
   "metadata": {},
   "outputs": [
    {
     "name": "stdout",
     "output_type": "stream",
     "text": [
      "Original array:\n",
      "[0.24161742 0.71199128 0.27974343 0.17735958 0.54325181 0.55599224\n",
      " 0.75355773 0.09607019 0.06373398 0.83670078]\n",
      "Maximum value replaced by 0:\n",
      "[0.24161742 0.71199128 0.27974343 0.17735958 0.54325181 0.55599224\n",
      " 0.75355773 0.09607019 0.06373398 0.        ]\n"
     ]
    }
   ],
   "source": [
    "a = np.random.random(10)\n",
    "print(\"Original array:\")\n",
    "print(a)\n",
    "a[a.argmax()] = 0\n",
    "print(\"Maximum value replaced by 0:\")\n",
    "print(a)"
   ]
  },
  {
   "cell_type": "markdown",
   "metadata": {},
   "source": [
    "# 9. How to print all the values of an array?"
   ]
  },
  {
   "cell_type": "code",
   "execution_count": 27,
   "metadata": {},
   "outputs": [
    {
     "name": "stdout",
     "output_type": "stream",
     "text": [
      "[[10 12 30]\n",
      " [11 22 33]\n",
      " [22 55 88]]\n"
     ]
    }
   ],
   "source": [
    "a6 = np.array([[10,12,30],[11,22,33],[22,55,88]])\n",
    "print(a6)"
   ]
  },
  {
   "cell_type": "markdown",
   "metadata": {},
   "source": [
    "# 10.Subtract the mean of each row of a matrix"
   ]
  },
  {
   "cell_type": "code",
   "execution_count": 3,
   "metadata": {},
   "outputs": [
    {
     "name": "stdout",
     "output_type": "stream",
     "text": [
      "[[0.72275329 0.76476258 0.88176326]\n",
      " [0.05989026 0.39648137 0.6473163 ]\n",
      " [0.31990404 0.85876267 0.78260534]]\n",
      "[[-0.06700642 -0.02499713  0.09200355]\n",
      " [-0.30800572  0.02858539  0.27942032]\n",
      " [-0.33385331  0.20500532  0.12884799]]\n"
     ]
    }
   ],
   "source": [
    "import numpy as np\n",
    "matrix = np.random.rand(3,3)\n",
    "print(matrix)\n",
    "new_matrix = matrix - matrix.mean(axis=1,keepdims=True)\n",
    "print(new_matrix)\n"
   ]
  },
  {
   "cell_type": "markdown",
   "metadata": {},
   "source": [
    "# 11.Consider a given vector, how to add 1 to each element indexed by a second vector (be careful with repeated indices)? "
   ]
  },
  {
   "cell_type": "code",
   "execution_count": 12,
   "metadata": {},
   "outputs": [],
   "source": [
    "import numpy as np\n",
    "Z = np.ones(10)\n",
    "I = np.random.randint(0,len(Z),20)\n",
    "Z += np.bincount(I, minlength=len(Z))\n"
   ]
  },
  {
   "cell_type": "code",
   "execution_count": 13,
   "metadata": {},
   "outputs": [
    {
     "name": "stdout",
     "output_type": "stream",
     "text": [
      "[2. 4. 2. 5. 3. 4. 2. 2. 4. 2.]\n"
     ]
    }
   ],
   "source": [
    "print(Z)"
   ]
  },
  {
   "cell_type": "markdown",
   "metadata": {},
   "source": [
    "# 12.How to get the diagonal of a dot product?"
   ]
  },
  {
   "cell_type": "code",
   "execution_count": 5,
   "metadata": {},
   "outputs": [
    {
     "name": "stdout",
     "output_type": "stream",
     "text": [
      "[[2 2 1]\n",
      " [6 0 7]\n",
      " [3 0 6]]\n",
      "[[9 2 9]\n",
      " [5 9 2]\n",
      " [1 5 5]]\n"
     ]
    },
    {
     "data": {
      "text/plain": [
       "array([29, 47, 57])"
      ]
     },
     "execution_count": 5,
     "metadata": {},
     "output_type": "execute_result"
    }
   ],
   "source": [
    "import numpy as np\n",
    "arr3 = np.random.randint(0,10,(3,3))\n",
    "arr4= np.random.randint(0,10,(3,3))\n",
    "\n",
    "print(arr3)\n",
    "print(arr4)\n",
    "np.diag(np.dot(arr3, arr4))"
   ]
  },
  {
   "cell_type": "markdown",
   "metadata": {},
   "source": [
    "# 13.How to find the most frequent value in an array?"
   ]
  },
  {
   "cell_type": "code",
   "execution_count": 6,
   "metadata": {},
   "outputs": [
    {
     "name": "stdout",
     "output_type": "stream",
     "text": [
      "[9 2 3 7 9 6 2 0 4 7]\n",
      "Frequent Number: 2\n"
     ]
    }
   ],
   "source": [
    "import numpy as np\n",
    "m = np.random.randint(0,10,10)\n",
    "print (m)\n",
    "print('Frequent Number:', np.bincount(m).argmax())\n"
   ]
  },
  {
   "cell_type": "markdown",
   "metadata": {},
   "source": [
    "# 14.How to get the n largest values of an array"
   ]
  },
  {
   "cell_type": "code",
   "execution_count": 8,
   "metadata": {},
   "outputs": [
    {
     "name": "stdout",
     "output_type": "stream",
     "text": [
      "[ 0  1  2  3  4  5  6  7  8  9 10 11 12 13 14 15 16 17 18 19 20 21 22 23\n",
      " 24 25 26 27 28 29 30 31 32 33 34 35 36 37 38 39 40 41 42 43 44]\n",
      "[44]\n"
     ]
    },
    {
     "data": {
      "text/plain": [
       "44"
      ]
     },
     "execution_count": 8,
     "metadata": {},
     "output_type": "execute_result"
    }
   ],
   "source": [
    "import numpy as np\n",
    "x=np.arange(45)\n",
    "print(x)\n",
    "np.random.shuffle(x)\n",
    "n=1\n",
    "print(x[np.argsort(x)[-n:]])\n",
    "np.max(x)\n"
   ]
  },
  {
   "cell_type": "markdown",
   "metadata": {},
   "source": [
    "# 15.How to create a record array from a regular array?"
   ]
  },
  {
   "cell_type": "code",
   "execution_count": 10,
   "metadata": {},
   "outputs": [],
   "source": [
    "import numpy as np\n",
    "a =np.array(['Hello','Byee','Hello World'])\n",
    "b=np.array([10,20,30])\n",
    "c=np.array(['a','b','c'])\n",
    "result=np.core.records.fromarrays([a,b,c])\n"
   ]
  },
  {
   "cell_type": "code",
   "execution_count": 11,
   "metadata": {},
   "outputs": [
    {
     "name": "stdout",
     "output_type": "stream",
     "text": [
      "('Hello', 10, 'a')\n",
      "('Byee', 20, 'b')\n",
      "('Hello World', 30, 'c')\n"
     ]
    }
   ],
   "source": [
    "print(result[0])\n",
    "print(result[1])\n",
    "print(result[2])\n"
   ]
  }
 ],
 "metadata": {
  "kernelspec": {
   "display_name": "Python 3",
   "language": "python",
   "name": "python3"
  },
  "language_info": {
   "codemirror_mode": {
    "name": "ipython",
    "version": 3
   },
   "file_extension": ".py",
   "mimetype": "text/x-python",
   "name": "python",
   "nbconvert_exporter": "python",
   "pygments_lexer": "ipython3",
   "version": "3.7.6"
  }
 },
 "nbformat": 4,
 "nbformat_minor": 2
}
