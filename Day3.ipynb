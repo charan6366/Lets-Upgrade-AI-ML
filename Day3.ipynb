{
 "cells": [
  {
   "cell_type": "markdown",
   "metadata": {},
   "source": [
    "Write a program to subtract two complex numbers in Python."
   ]
  },
  {
   "cell_type": "code",
   "execution_count": 1,
   "metadata": {},
   "outputs": [
    {
     "name": "stdout",
     "output_type": "stream",
     "text": [
      "(-1-1j)\n"
     ]
    }
   ],
   "source": [
    "num1=3+6j\n",
    "num2=4+7j\n",
    "difference=num1-num2\n",
    "print(difference)"
   ]
  },
  {
   "cell_type": "markdown",
   "metadata": {},
   "source": [
    "Write a program to find the fourth root of a number.\n"
   ]
  },
  {
   "cell_type": "code",
   "execution_count": 2,
   "metadata": {},
   "outputs": [
    {
     "name": "stdout",
     "output_type": "stream",
     "text": [
      "2.7355647997347607\n"
     ]
    }
   ],
   "source": [
    "a=56\n",
    "x=a**(1/4)\n",
    "print(x)"
   ]
  },
  {
   "cell_type": "markdown",
   "metadata": {},
   "source": [
    "Write a program to swap two numbers in Python with the help of a temporary variable"
   ]
  },
  {
   "cell_type": "code",
   "execution_count": 5,
   "metadata": {},
   "outputs": [
    {
     "name": "stdout",
     "output_type": "stream",
     "text": [
      "after swapping x,y respectively : 30 20\n"
     ]
    }
   ],
   "source": [
    "x=20\n",
    "y=30\n",
    "k=x\n",
    "x=y\n",
    "y=k\n",
    "print(\"after swapping x,y respectively :\",x,y)\n",
    "\n"
   ]
  },
  {
   "cell_type": "markdown",
   "metadata": {},
   "source": [
    "Write a program to swap two numbers in Python without using a temporary variable"
   ]
  },
  {
   "cell_type": "code",
   "execution_count": 6,
   "metadata": {},
   "outputs": [
    {
     "name": "stdout",
     "output_type": "stream",
     "text": [
      "after swapping x1 and y1 respectively are 7 25\n"
     ]
    }
   ],
   "source": [
    "x1=25\n",
    "y1=7\n",
    "x1=x1+y1\n",
    "y1=x1-y1\n",
    "x1=x1-y1\n",
    "print('after swapping x1 and y1 respectively are',x1,y1)"
   ]
  },
  {
   "cell_type": "markdown",
   "metadata": {},
   "source": [
    "Write a program to convert fahrenheit to kelvin and celsius both"
   ]
  },
  {
   "cell_type": "code",
   "execution_count": 7,
   "metadata": {},
   "outputs": [
    {
     "name": "stdout",
     "output_type": "stream",
     "text": [
      "enter fahrenheit scale273\n",
      "celsius scale: 133.88888888888889\n",
      "kelvin scale  : 407.0388888888889\n"
     ]
    }
   ],
   "source": [
    "f=int(input(\"enter fahrenheit scale\"))\n",
    "celsius=(5*(f-32))/9\n",
    "print(\"celsius scale:\",celsius)\n",
    "kelvin=((5*(f-32))/9)+273.15\n",
    "print(\"kelvin scale  :\",kelvin)"
   ]
  },
  {
   "cell_type": "markdown",
   "metadata": {},
   "source": [
    "Write a program to demonstrate all the available data types in Python. Hint: Use type() function."
   ]
  },
  {
   "cell_type": "code",
   "execution_count": 8,
   "metadata": {
    "scrolled": true
   },
   "outputs": [
    {
     "name": "stdout",
     "output_type": "stream",
     "text": [
      "type of a: <class 'int'>\n",
      "type of b: <class 'float'>\n",
      "type of c: <class 'complex'>\n",
      "type of d: <class 'str'>\n",
      "type of t : <class 'tuple'>\n",
      "type of l: <class 'list'>\n",
      "type of s: <class 'set'>\n",
      "type of dic: <class 'dict'>\n"
     ]
    }
   ],
   "source": [
    "a=7\n",
    "print(\"type of a:\",type(a))\n",
    "b=16.12\n",
    "print(\"type of b:\",type(b))\n",
    "c=3+5j\n",
    "print(\"type of c:\",type(c))\n",
    "d='Charan'\n",
    "print(\"type of d:\",type(d))\n",
    "t=(2,3,\"bittu\",22.5)\n",
    "print(\"type of t :\",type(t))\n",
    "l=[1,499,'letsupgrade']\n",
    "print(\"type of l:\",type(l))\n",
    "s={2,3,2,45,67}\n",
    "print(\"type of s:\",type(s))\n",
    "dic={a:1,b:2,c:3}\n",
    "print(\"type of dic:\",type(dic))"
   ]
  },
  {
   "cell_type": "markdown",
   "metadata": {},
   "source": [
    "Creating Github profile\n",
    "1.Create a Github public repo and name it LetsUpgrade AI/ML\n",
    "2.Upload the files/solution in the repo in day wise manner.\n",
    "3.Copy the URL of the Folder of that day and paste in the Assignment Submission Form (Google Form)\n",
    "4.Copy the URL of the Folder of that day and paste in the Assignment Submission Form (Google Form)\n",
    "5.All the drop-downs will be available till the week end only. i.e Previous weeks drop-down will disappear on each Sunday 11:59 PM\n",
    "6.You have to submit all the assignment given during the weekdays by respective SUNDAY 11:59 PM IST.#\n"
   ]
  },
  {
   "cell_type": "code",
   "execution_count": null,
   "metadata": {},
   "outputs": [],
   "source": []
  }
 ],
 "metadata": {
  "kernelspec": {
   "display_name": "Python 3",
   "language": "python",
   "name": "python3"
  },
  "language_info": {
   "codemirror_mode": {
    "name": "ipython",
    "version": 3
   },
   "file_extension": ".py",
   "mimetype": "text/x-python",
   "name": "python",
   "nbconvert_exporter": "python",
   "pygments_lexer": "ipython3",
   "version": "3.7.6"
  }
 },
 "nbformat": 4,
 "nbformat_minor": 4
}
