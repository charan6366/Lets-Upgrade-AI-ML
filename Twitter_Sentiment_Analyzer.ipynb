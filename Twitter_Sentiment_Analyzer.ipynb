{
  "nbformat": 4,
  "nbformat_minor": 0,
  "metadata": {
    "colab": {
      "name": "Twitter Sentiment Analyzer.ipynb",
      "provenance": [],
      "authorship_tag": "ABX9TyPu1WfWnILQlGnPHb0uu5RR",
      "include_colab_link": true
    },
    "kernelspec": {
      "name": "python3",
      "display_name": "Python 3"
    }
  },
  "cells": [
    {
      "cell_type": "markdown",
      "metadata": {
        "id": "view-in-github",
        "colab_type": "text"
      },
      "source": [
        "<a href=\"https://colab.research.google.com/github/charan6366/Lets-Upgrade-AI-ML/blob/master/Twitter_Sentiment_Analyzer.ipynb\" target=\"_parent\"><img src=\"https://colab.research.google.com/assets/colab-badge.svg\" alt=\"Open In Colab\"/></a>"
      ]
    },
    {
      "cell_type": "code",
      "metadata": {
        "id": "B4gSHa8KdGfU"
      },
      "source": [
        "import numpy as np\n",
        "import pandas as pd\n",
        "import tweepy\n",
        "import json\n",
        "from tweepy import OAuthHandler"
      ],
      "execution_count": 1,
      "outputs": []
    },
    {
      "cell_type": "code",
      "metadata": {
        "id": "nRXUQQXHdL9j"
      },
      "source": [
        "consumer_key = \"LzsCOl12ZZ79FObx7BV9a1R3a\"\n",
        "consumer_secret = \"gODxZ1kHJHDGgYfyP12AUN37UTlDd6yn3OsSV9Tl0iwu0K0cRY\"\n",
        "access_token = \"296102538-kYIK8SULCmRK4vgvYD2DhKbwvSXrgTdTkWh0Nvsp\"\n",
        "access_token_secret = \"Ib9obwgcE5tZk4S6tY5rAqI5iXOeJc9FGFg28qHoa4YpP\""
      ],
      "execution_count": 2,
      "outputs": []
    },
    {
      "cell_type": "code",
      "metadata": {
        "id": "39bfqoOUdPOw"
      },
      "source": [
        "auth = tweepy.OAuthHandler( consumer_key , consumer_secret )\n",
        "auth.set_access_token( access_token , access_token_secret )\n",
        "api = tweepy.API(auth)"
      ],
      "execution_count": 3,
      "outputs": []
    },
    {
      "cell_type": "code",
      "metadata": {
        "id": "dwFlOc07dS7N"
      },
      "source": [
        "query = \"RCB winning IPL\""
      ],
      "execution_count": 4,
      "outputs": []
    },
    {
      "cell_type": "code",
      "metadata": {
        "id": "1AdTGopYdrIz",
        "outputId": "40f33984-d485-4798-8510-0753bbfbc656",
        "colab": {
          "base_uri": "https://localhost:8080/"
        }
      },
      "source": [
        "Tweets = api.search( query , count=10 , lang='en' , exclude='retweets' , tweet_mode='extended' )\n",
        "# tweet_mode='extended'\n",
        "# tweet_mode='compat'\n",
        "\n",
        "for tweet in Tweets:\n",
        "    print(tweet,\"\\n\")\n",
        "    print(\".....................................\\n\")"
      ],
      "execution_count": 5,
      "outputs": [
        {
          "output_type": "stream",
          "text": [
            "Status(_api=<tweepy.api.API object at 0x7fb63aa71a58>, _json={'created_at': 'Thu Oct 29 03:35:51 +0000 2020', 'id': 1321656970986758144, 'id_str': '1321656970986758144', 'full_text': '@SimplyWazza Bhai most of these rcb fans are frustrated that kohli cant get them bragging rights of winning IPL. Ab kohli ko gaali nahi de sakte so they blame everything associated with him.', 'truncated': False, 'display_text_range': [13, 190], 'entities': {'hashtags': [], 'symbols': [], 'user_mentions': [{'screen_name': 'SimplyWazza', 'name': 'VINAY', 'id': 207561391, 'id_str': '207561391', 'indices': [0, 12]}], 'urls': []}, 'metadata': {'iso_language_code': 'en', 'result_type': 'recent'}, 'source': '<a href=\"http://twitter.com/download/android\" rel=\"nofollow\">Twitter for Android</a>', 'in_reply_to_status_id': 1321656409881128960, 'in_reply_to_status_id_str': '1321656409881128960', 'in_reply_to_user_id': 207561391, 'in_reply_to_user_id_str': '207561391', 'in_reply_to_screen_name': 'SimplyWazza', 'user': {'id': 84599573, 'id_str': '84599573', 'name': 'Desi Gooner', 'screen_name': 'Sahil_Adhikaari', 'location': 'India', 'description': 'Nostalgia Merchant. Arsenal. LA Lakers.', 'url': None, 'entities': {'description': {'urls': []}}, 'protected': False, 'followers_count': 6756, 'friends_count': 710, 'listed_count': 25, 'created_at': 'Fri Oct 23 14:08:58 +0000 2009', 'favourites_count': 55374, 'utc_offset': None, 'time_zone': None, 'geo_enabled': True, 'verified': False, 'statuses_count': 171338, 'lang': None, 'contributors_enabled': False, 'is_translator': False, 'is_translation_enabled': False, 'profile_background_color': 'C0DEED', 'profile_background_image_url': 'http://abs.twimg.com/images/themes/theme1/bg.png', 'profile_background_image_url_https': 'https://abs.twimg.com/images/themes/theme1/bg.png', 'profile_background_tile': False, 'profile_image_url': 'http://pbs.twimg.com/profile_images/1315154593525846017/Imm3Bbv6_normal.jpg', 'profile_image_url_https': 'https://pbs.twimg.com/profile_images/1315154593525846017/Imm3Bbv6_normal.jpg', 'profile_banner_url': 'https://pbs.twimg.com/profile_banners/84599573/1534492014', 'profile_link_color': '1DA1F2', 'profile_sidebar_border_color': 'C0DEED', 'profile_sidebar_fill_color': 'DDEEF6', 'profile_text_color': '333333', 'profile_use_background_image': True, 'has_extended_profile': True, 'default_profile': True, 'default_profile_image': False, 'following': False, 'follow_request_sent': False, 'notifications': False, 'translator_type': 'none'}, 'geo': None, 'coordinates': None, 'place': None, 'contributors': None, 'is_quote_status': False, 'retweet_count': 0, 'favorite_count': 0, 'favorited': False, 'retweeted': False, 'lang': 'en'}, created_at=datetime.datetime(2020, 10, 29, 3, 35, 51), id=1321656970986758144, id_str='1321656970986758144', full_text='@SimplyWazza Bhai most of these rcb fans are frustrated that kohli cant get them bragging rights of winning IPL. Ab kohli ko gaali nahi de sakte so they blame everything associated with him.', truncated=False, display_text_range=[13, 190], entities={'hashtags': [], 'symbols': [], 'user_mentions': [{'screen_name': 'SimplyWazza', 'name': 'VINAY', 'id': 207561391, 'id_str': '207561391', 'indices': [0, 12]}], 'urls': []}, metadata={'iso_language_code': 'en', 'result_type': 'recent'}, source='Twitter for Android', source_url='http://twitter.com/download/android', in_reply_to_status_id=1321656409881128960, in_reply_to_status_id_str='1321656409881128960', in_reply_to_user_id=207561391, in_reply_to_user_id_str='207561391', in_reply_to_screen_name='SimplyWazza', author=User(_api=<tweepy.api.API object at 0x7fb63aa71a58>, _json={'id': 84599573, 'id_str': '84599573', 'name': 'Desi Gooner', 'screen_name': 'Sahil_Adhikaari', 'location': 'India', 'description': 'Nostalgia Merchant. Arsenal. LA Lakers.', 'url': None, 'entities': {'description': {'urls': []}}, 'protected': False, 'followers_count': 6756, 'friends_count': 710, 'listed_count': 25, 'created_at': 'Fri Oct 23 14:08:58 +0000 2009', 'favourites_count': 55374, 'utc_offset': None, 'time_zone': None, 'geo_enabled': True, 'verified': False, 'statuses_count': 171338, 'lang': None, 'contributors_enabled': False, 'is_translator': False, 'is_translation_enabled': False, 'profile_background_color': 'C0DEED', 'profile_background_image_url': 'http://abs.twimg.com/images/themes/theme1/bg.png', 'profile_background_image_url_https': 'https://abs.twimg.com/images/themes/theme1/bg.png', 'profile_background_tile': False, 'profile_image_url': 'http://pbs.twimg.com/profile_images/1315154593525846017/Imm3Bbv6_normal.jpg', 'profile_image_url_https': 'https://pbs.twimg.com/profile_images/1315154593525846017/Imm3Bbv6_normal.jpg', 'profile_banner_url': 'https://pbs.twimg.com/profile_banners/84599573/1534492014', 'profile_link_color': '1DA1F2', 'profile_sidebar_border_color': 'C0DEED', 'profile_sidebar_fill_color': 'DDEEF6', 'profile_text_color': '333333', 'profile_use_background_image': True, 'has_extended_profile': True, 'default_profile': True, 'default_profile_image': False, 'following': False, 'follow_request_sent': False, 'notifications': False, 'translator_type': 'none'}, id=84599573, id_str='84599573', name='Desi Gooner', screen_name='Sahil_Adhikaari', location='India', description='Nostalgia Merchant. Arsenal. LA Lakers.', url=None, entities={'description': {'urls': []}}, protected=False, followers_count=6756, friends_count=710, listed_count=25, created_at=datetime.datetime(2009, 10, 23, 14, 8, 58), favourites_count=55374, utc_offset=None, time_zone=None, geo_enabled=True, verified=False, statuses_count=171338, lang=None, contributors_enabled=False, is_translator=False, is_translation_enabled=False, profile_background_color='C0DEED', profile_background_image_url='http://abs.twimg.com/images/themes/theme1/bg.png', profile_background_image_url_https='https://abs.twimg.com/images/themes/theme1/bg.png', profile_background_tile=False, profile_image_url='http://pbs.twimg.com/profile_images/1315154593525846017/Imm3Bbv6_normal.jpg', profile_image_url_https='https://pbs.twimg.com/profile_images/1315154593525846017/Imm3Bbv6_normal.jpg', profile_banner_url='https://pbs.twimg.com/profile_banners/84599573/1534492014', profile_link_color='1DA1F2', profile_sidebar_border_color='C0DEED', profile_sidebar_fill_color='DDEEF6', profile_text_color='333333', profile_use_background_image=True, has_extended_profile=True, default_profile=True, default_profile_image=False, following=False, follow_request_sent=False, notifications=False, translator_type='none'), user=User(_api=<tweepy.api.API object at 0x7fb63aa71a58>, _json={'id': 84599573, 'id_str': '84599573', 'name': 'Desi Gooner', 'screen_name': 'Sahil_Adhikaari', 'location': 'India', 'description': 'Nostalgia Merchant. Arsenal. LA Lakers.', 'url': None, 'entities': {'description': {'urls': []}}, 'protected': False, 'followers_count': 6756, 'friends_count': 710, 'listed_count': 25, 'created_at': 'Fri Oct 23 14:08:58 +0000 2009', 'favourites_count': 55374, 'utc_offset': None, 'time_zone': None, 'geo_enabled': True, 'verified': False, 'statuses_count': 171338, 'lang': None, 'contributors_enabled': False, 'is_translator': False, 'is_translation_enabled': False, 'profile_background_color': 'C0DEED', 'profile_background_image_url': 'http://abs.twimg.com/images/themes/theme1/bg.png', 'profile_background_image_url_https': 'https://abs.twimg.com/images/themes/theme1/bg.png', 'profile_background_tile': False, 'profile_image_url': 'http://pbs.twimg.com/profile_images/1315154593525846017/Imm3Bbv6_normal.jpg', 'profile_image_url_https': 'https://pbs.twimg.com/profile_images/1315154593525846017/Imm3Bbv6_normal.jpg', 'profile_banner_url': 'https://pbs.twimg.com/profile_banners/84599573/1534492014', 'profile_link_color': '1DA1F2', 'profile_sidebar_border_color': 'C0DEED', 'profile_sidebar_fill_color': 'DDEEF6', 'profile_text_color': '333333', 'profile_use_background_image': True, 'has_extended_profile': True, 'default_profile': True, 'default_profile_image': False, 'following': False, 'follow_request_sent': False, 'notifications': False, 'translator_type': 'none'}, id=84599573, id_str='84599573', name='Desi Gooner', screen_name='Sahil_Adhikaari', location='India', description='Nostalgia Merchant. Arsenal. LA Lakers.', url=None, entities={'description': {'urls': []}}, protected=False, followers_count=6756, friends_count=710, listed_count=25, created_at=datetime.datetime(2009, 10, 23, 14, 8, 58), favourites_count=55374, utc_offset=None, time_zone=None, geo_enabled=True, verified=False, statuses_count=171338, lang=None, contributors_enabled=False, is_translator=False, is_translation_enabled=False, profile_background_color='C0DEED', profile_background_image_url='http://abs.twimg.com/images/themes/theme1/bg.png', profile_background_image_url_https='https://abs.twimg.com/images/themes/theme1/bg.png', profile_background_tile=False, profile_image_url='http://pbs.twimg.com/profile_images/1315154593525846017/Imm3Bbv6_normal.jpg', profile_image_url_https='https://pbs.twimg.com/profile_images/1315154593525846017/Imm3Bbv6_normal.jpg', profile_banner_url='https://pbs.twimg.com/profile_banners/84599573/1534492014', profile_link_color='1DA1F2', profile_sidebar_border_color='C0DEED', profile_sidebar_fill_color='DDEEF6', profile_text_color='333333', profile_use_background_image=True, has_extended_profile=True, default_profile=True, default_profile_image=False, following=False, follow_request_sent=False, notifications=False, translator_type='none'), geo=None, coordinates=None, place=None, contributors=None, is_quote_status=False, retweet_count=0, favorite_count=0, favorited=False, retweeted=False, lang='en') \n",
            "\n",
            ".....................................\n",
            "\n",
            "Status(_api=<tweepy.api.API object at 0x7fb63aa71a58>, _json={'created_at': 'Thu Oct 29 03:06:55 +0000 2020', 'id': 1321649690522185728, 'id_str': '1321649690522185728', 'full_text': '@imVkohli @RCBTweets We are still rcb fans even rcb looses #RCB #PlayBold win next match and show the power of rcb to everyone by winning ipl trophy ❤️❤️', 'truncated': False, 'display_text_range': [21, 153], 'entities': {'hashtags': [{'text': 'RCB', 'indices': [59, 63]}, {'text': 'PlayBold', 'indices': [64, 73]}], 'symbols': [], 'user_mentions': [{'screen_name': 'imVkohli', 'name': 'Virat Kohli', 'id': 71201743, 'id_str': '71201743', 'indices': [0, 9]}, {'screen_name': 'RCBTweets', 'name': 'Royal Challengers Bangalore', 'id': 70931004, 'id_str': '70931004', 'indices': [10, 20]}], 'urls': []}, 'metadata': {'iso_language_code': 'en', 'result_type': 'recent'}, 'source': '<a href=\"http://twitter.com/download/android\" rel=\"nofollow\">Twitter for Android</a>', 'in_reply_to_status_id': 1321518923880169472, 'in_reply_to_status_id_str': '1321518923880169472', 'in_reply_to_user_id': 71201743, 'in_reply_to_user_id_str': '71201743', 'in_reply_to_screen_name': 'imVkohli', 'user': {'id': 1276927217038229504, 'id_str': '1276927217038229504', 'name': 'PS Star 09', 'screen_name': 'PSStar091', 'location': '', 'description': 'I am Youtube channel name {PS Star } \\nWhere I upload Short films , songs , web series , and more', 'url': None, 'entities': {'description': {'urls': []}}, 'protected': False, 'followers_count': 0, 'friends_count': 2, 'listed_count': 0, 'created_at': 'Sat Jun 27 17:16:07 +0000 2020', 'favourites_count': 1, 'utc_offset': None, 'time_zone': None, 'geo_enabled': False, 'verified': False, 'statuses_count': 3, 'lang': None, 'contributors_enabled': False, 'is_translator': False, 'is_translation_enabled': False, 'profile_background_color': 'F5F8FA', 'profile_background_image_url': None, 'profile_background_image_url_https': None, 'profile_background_tile': False, 'profile_image_url': 'http://pbs.twimg.com/profile_images/1276927666059386882/pMVzFfC1_normal.jpg', 'profile_image_url_https': 'https://pbs.twimg.com/profile_images/1276927666059386882/pMVzFfC1_normal.jpg', 'profile_link_color': '1DA1F2', 'profile_sidebar_border_color': 'C0DEED', 'profile_sidebar_fill_color': 'DDEEF6', 'profile_text_color': '333333', 'profile_use_background_image': True, 'has_extended_profile': True, 'default_profile': True, 'default_profile_image': False, 'following': False, 'follow_request_sent': False, 'notifications': False, 'translator_type': 'none'}, 'geo': None, 'coordinates': None, 'place': None, 'contributors': None, 'is_quote_status': False, 'retweet_count': 0, 'favorite_count': 0, 'favorited': False, 'retweeted': False, 'lang': 'en'}, created_at=datetime.datetime(2020, 10, 29, 3, 6, 55), id=1321649690522185728, id_str='1321649690522185728', full_text='@imVkohli @RCBTweets We are still rcb fans even rcb looses #RCB #PlayBold win next match and show the power of rcb to everyone by winning ipl trophy ❤️❤️', truncated=False, display_text_range=[21, 153], entities={'hashtags': [{'text': 'RCB', 'indices': [59, 63]}, {'text': 'PlayBold', 'indices': [64, 73]}], 'symbols': [], 'user_mentions': [{'screen_name': 'imVkohli', 'name': 'Virat Kohli', 'id': 71201743, 'id_str': '71201743', 'indices': [0, 9]}, {'screen_name': 'RCBTweets', 'name': 'Royal Challengers Bangalore', 'id': 70931004, 'id_str': '70931004', 'indices': [10, 20]}], 'urls': []}, metadata={'iso_language_code': 'en', 'result_type': 'recent'}, source='Twitter for Android', source_url='http://twitter.com/download/android', in_reply_to_status_id=1321518923880169472, in_reply_to_status_id_str='1321518923880169472', in_reply_to_user_id=71201743, in_reply_to_user_id_str='71201743', in_reply_to_screen_name='imVkohli', author=User(_api=<tweepy.api.API object at 0x7fb63aa71a58>, _json={'id': 1276927217038229504, 'id_str': '1276927217038229504', 'name': 'PS Star 09', 'screen_name': 'PSStar091', 'location': '', 'description': 'I am Youtube channel name {PS Star } \\nWhere I upload Short films , songs , web series , and more', 'url': None, 'entities': {'description': {'urls': []}}, 'protected': False, 'followers_count': 0, 'friends_count': 2, 'listed_count': 0, 'created_at': 'Sat Jun 27 17:16:07 +0000 2020', 'favourites_count': 1, 'utc_offset': None, 'time_zone': None, 'geo_enabled': False, 'verified': False, 'statuses_count': 3, 'lang': None, 'contributors_enabled': False, 'is_translator': False, 'is_translation_enabled': False, 'profile_background_color': 'F5F8FA', 'profile_background_image_url': None, 'profile_background_image_url_https': None, 'profile_background_tile': False, 'profile_image_url': 'http://pbs.twimg.com/profile_images/1276927666059386882/pMVzFfC1_normal.jpg', 'profile_image_url_https': 'https://pbs.twimg.com/profile_images/1276927666059386882/pMVzFfC1_normal.jpg', 'profile_link_color': '1DA1F2', 'profile_sidebar_border_color': 'C0DEED', 'profile_sidebar_fill_color': 'DDEEF6', 'profile_text_color': '333333', 'profile_use_background_image': True, 'has_extended_profile': True, 'default_profile': True, 'default_profile_image': False, 'following': False, 'follow_request_sent': False, 'notifications': False, 'translator_type': 'none'}, id=1276927217038229504, id_str='1276927217038229504', name='PS Star 09', screen_name='PSStar091', location='', description='I am Youtube channel name {PS Star } \\nWhere I upload Short films , songs , web series , and more', url=None, entities={'description': {'urls': []}}, protected=False, followers_count=0, friends_count=2, listed_count=0, created_at=datetime.datetime(2020, 6, 27, 17, 16, 7), favourites_count=1, utc_offset=None, time_zone=None, geo_enabled=False, verified=False, statuses_count=3, lang=None, contributors_enabled=False, is_translator=False, is_translation_enabled=False, profile_background_color='F5F8FA', profile_background_image_url=None, profile_background_image_url_https=None, profile_background_tile=False, profile_image_url='http://pbs.twimg.com/profile_images/1276927666059386882/pMVzFfC1_normal.jpg', profile_image_url_https='https://pbs.twimg.com/profile_images/1276927666059386882/pMVzFfC1_normal.jpg', profile_link_color='1DA1F2', profile_sidebar_border_color='C0DEED', profile_sidebar_fill_color='DDEEF6', profile_text_color='333333', profile_use_background_image=True, has_extended_profile=True, default_profile=True, default_profile_image=False, following=False, follow_request_sent=False, notifications=False, translator_type='none'), user=User(_api=<tweepy.api.API object at 0x7fb63aa71a58>, _json={'id': 1276927217038229504, 'id_str': '1276927217038229504', 'name': 'PS Star 09', 'screen_name': 'PSStar091', 'location': '', 'description': 'I am Youtube channel name {PS Star } \\nWhere I upload Short films , songs , web series , and more', 'url': None, 'entities': {'description': {'urls': []}}, 'protected': False, 'followers_count': 0, 'friends_count': 2, 'listed_count': 0, 'created_at': 'Sat Jun 27 17:16:07 +0000 2020', 'favourites_count': 1, 'utc_offset': None, 'time_zone': None, 'geo_enabled': False, 'verified': False, 'statuses_count': 3, 'lang': None, 'contributors_enabled': False, 'is_translator': False, 'is_translation_enabled': False, 'profile_background_color': 'F5F8FA', 'profile_background_image_url': None, 'profile_background_image_url_https': None, 'profile_background_tile': False, 'profile_image_url': 'http://pbs.twimg.com/profile_images/1276927666059386882/pMVzFfC1_normal.jpg', 'profile_image_url_https': 'https://pbs.twimg.com/profile_images/1276927666059386882/pMVzFfC1_normal.jpg', 'profile_link_color': '1DA1F2', 'profile_sidebar_border_color': 'C0DEED', 'profile_sidebar_fill_color': 'DDEEF6', 'profile_text_color': '333333', 'profile_use_background_image': True, 'has_extended_profile': True, 'default_profile': True, 'default_profile_image': False, 'following': False, 'follow_request_sent': False, 'notifications': False, 'translator_type': 'none'}, id=1276927217038229504, id_str='1276927217038229504', name='PS Star 09', screen_name='PSStar091', location='', description='I am Youtube channel name {PS Star } \\nWhere I upload Short films , songs , web series , and more', url=None, entities={'description': {'urls': []}}, protected=False, followers_count=0, friends_count=2, listed_count=0, created_at=datetime.datetime(2020, 6, 27, 17, 16, 7), favourites_count=1, utc_offset=None, time_zone=None, geo_enabled=False, verified=False, statuses_count=3, lang=None, contributors_enabled=False, is_translator=False, is_translation_enabled=False, profile_background_color='F5F8FA', profile_background_image_url=None, profile_background_image_url_https=None, profile_background_tile=False, profile_image_url='http://pbs.twimg.com/profile_images/1276927666059386882/pMVzFfC1_normal.jpg', profile_image_url_https='https://pbs.twimg.com/profile_images/1276927666059386882/pMVzFfC1_normal.jpg', profile_link_color='1DA1F2', profile_sidebar_border_color='C0DEED', profile_sidebar_fill_color='DDEEF6', profile_text_color='333333', profile_use_background_image=True, has_extended_profile=True, default_profile=True, default_profile_image=False, following=False, follow_request_sent=False, notifications=False, translator_type='none'), geo=None, coordinates=None, place=None, contributors=None, is_quote_status=False, retweet_count=0, favorite_count=0, favorited=False, retweeted=False, lang='en') \n",
            "\n",
            ".....................................\n",
            "\n",
            "Status(_api=<tweepy.api.API object at 0x7fb63aa71a58>, _json={'created_at': 'Thu Oct 29 03:05:39 +0000 2020', 'id': 1321649371532861442, 'id_str': '1321649371532861442', 'full_text': 'India head coach #RaviShastri has urged #SuryakumarYadav to remain strong and patient after the Mumbai Indians star hit a match-winning 79 not out in a high-pressure #IPL2020 encounter against #RCB.\\n#Cricket \\nhttps://t.co/ad6kqlPWNq', 'truncated': False, 'display_text_range': [0, 232], 'entities': {'hashtags': [{'text': 'RaviShastri', 'indices': [17, 29]}, {'text': 'SuryakumarYadav', 'indices': [40, 56]}, {'text': 'IPL2020', 'indices': [166, 174]}, {'text': 'RCB', 'indices': [193, 197]}, {'text': 'Cricket', 'indices': [199, 207]}], 'symbols': [], 'user_mentions': [], 'urls': [{'url': 'https://t.co/ad6kqlPWNq', 'expanded_url': 'https://www.indiatoday.in/sports/ipl-2020/story/suryakumar-yadav-mi-vs-rcb-ravi-shastri-message-india-tour-of-australia-snub-statement-1736044-2020-10-29', 'display_url': 'indiatoday.in/sports/ipl-202…', 'indices': [209, 232]}]}, 'metadata': {'iso_language_code': 'en', 'result_type': 'recent'}, 'source': '<a href=\"https://mobile.twitter.com\" rel=\"nofollow\">Twitter Web App</a>', 'in_reply_to_status_id': None, 'in_reply_to_status_id_str': None, 'in_reply_to_user_id': None, 'in_reply_to_user_id_str': None, 'in_reply_to_screen_name': None, 'user': {'id': 19897138, 'id_str': '19897138', 'name': 'IndiaToday', 'screen_name': 'IndiaToday', 'location': 'India', 'description': 'Brings you news breaks: Exclusive political, entertainment, sports insight, unbiased-nonaligned. We are also on Instagram : https://t.co/qf1v42FMpb', 'url': None, 'entities': {'description': {'urls': [{'url': 'https://t.co/qf1v42FMpb', 'expanded_url': 'https://www.instagram.com/indiatoday', 'display_url': 'instagram.com/indiatoday', 'indices': [124, 147]}]}}, 'protected': False, 'followers_count': 5397975, 'friends_count': 244, 'listed_count': 5534, 'created_at': 'Mon Feb 02 07:21:54 +0000 2009', 'favourites_count': 4432, 'utc_offset': None, 'time_zone': None, 'geo_enabled': True, 'verified': True, 'statuses_count': 791787, 'lang': None, 'contributors_enabled': False, 'is_translator': False, 'is_translation_enabled': False, 'profile_background_color': 'C0DEED', 'profile_background_image_url': 'http://abs.twimg.com/images/themes/theme1/bg.png', 'profile_background_image_url_https': 'https://abs.twimg.com/images/themes/theme1/bg.png', 'profile_background_tile': False, 'profile_image_url': 'http://pbs.twimg.com/profile_images/1303193863775895552/sEOiKTvO_normal.jpg', 'profile_image_url_https': 'https://pbs.twimg.com/profile_images/1303193863775895552/sEOiKTvO_normal.jpg', 'profile_banner_url': 'https://pbs.twimg.com/profile_banners/19897138/1603784641', 'profile_link_color': '1DA1F2', 'profile_sidebar_border_color': 'C0DEED', 'profile_sidebar_fill_color': 'DDEEF6', 'profile_text_color': '333333', 'profile_use_background_image': True, 'has_extended_profile': True, 'default_profile': True, 'default_profile_image': False, 'following': False, 'follow_request_sent': False, 'notifications': False, 'translator_type': 'none'}, 'geo': None, 'coordinates': None, 'place': None, 'contributors': None, 'is_quote_status': False, 'retweet_count': 2, 'favorite_count': 27, 'favorited': False, 'retweeted': False, 'possibly_sensitive': False, 'lang': 'en'}, created_at=datetime.datetime(2020, 10, 29, 3, 5, 39), id=1321649371532861442, id_str='1321649371532861442', full_text='India head coach #RaviShastri has urged #SuryakumarYadav to remain strong and patient after the Mumbai Indians star hit a match-winning 79 not out in a high-pressure #IPL2020 encounter against #RCB.\\n#Cricket \\nhttps://t.co/ad6kqlPWNq', truncated=False, display_text_range=[0, 232], entities={'hashtags': [{'text': 'RaviShastri', 'indices': [17, 29]}, {'text': 'SuryakumarYadav', 'indices': [40, 56]}, {'text': 'IPL2020', 'indices': [166, 174]}, {'text': 'RCB', 'indices': [193, 197]}, {'text': 'Cricket', 'indices': [199, 207]}], 'symbols': [], 'user_mentions': [], 'urls': [{'url': 'https://t.co/ad6kqlPWNq', 'expanded_url': 'https://www.indiatoday.in/sports/ipl-2020/story/suryakumar-yadav-mi-vs-rcb-ravi-shastri-message-india-tour-of-australia-snub-statement-1736044-2020-10-29', 'display_url': 'indiatoday.in/sports/ipl-202…', 'indices': [209, 232]}]}, metadata={'iso_language_code': 'en', 'result_type': 'recent'}, source='Twitter Web App', source_url='https://mobile.twitter.com', in_reply_to_status_id=None, in_reply_to_status_id_str=None, in_reply_to_user_id=None, in_reply_to_user_id_str=None, in_reply_to_screen_name=None, author=User(_api=<tweepy.api.API object at 0x7fb63aa71a58>, _json={'id': 19897138, 'id_str': '19897138', 'name': 'IndiaToday', 'screen_name': 'IndiaToday', 'location': 'India', 'description': 'Brings you news breaks: Exclusive political, entertainment, sports insight, unbiased-nonaligned. We are also on Instagram : https://t.co/qf1v42FMpb', 'url': None, 'entities': {'description': {'urls': [{'url': 'https://t.co/qf1v42FMpb', 'expanded_url': 'https://www.instagram.com/indiatoday', 'display_url': 'instagram.com/indiatoday', 'indices': [124, 147]}]}}, 'protected': False, 'followers_count': 5397975, 'friends_count': 244, 'listed_count': 5534, 'created_at': 'Mon Feb 02 07:21:54 +0000 2009', 'favourites_count': 4432, 'utc_offset': None, 'time_zone': None, 'geo_enabled': True, 'verified': True, 'statuses_count': 791787, 'lang': None, 'contributors_enabled': False, 'is_translator': False, 'is_translation_enabled': False, 'profile_background_color': 'C0DEED', 'profile_background_image_url': 'http://abs.twimg.com/images/themes/theme1/bg.png', 'profile_background_image_url_https': 'https://abs.twimg.com/images/themes/theme1/bg.png', 'profile_background_tile': False, 'profile_image_url': 'http://pbs.twimg.com/profile_images/1303193863775895552/sEOiKTvO_normal.jpg', 'profile_image_url_https': 'https://pbs.twimg.com/profile_images/1303193863775895552/sEOiKTvO_normal.jpg', 'profile_banner_url': 'https://pbs.twimg.com/profile_banners/19897138/1603784641', 'profile_link_color': '1DA1F2', 'profile_sidebar_border_color': 'C0DEED', 'profile_sidebar_fill_color': 'DDEEF6', 'profile_text_color': '333333', 'profile_use_background_image': True, 'has_extended_profile': True, 'default_profile': True, 'default_profile_image': False, 'following': False, 'follow_request_sent': False, 'notifications': False, 'translator_type': 'none'}, id=19897138, id_str='19897138', name='IndiaToday', screen_name='IndiaToday', location='India', description='Brings you news breaks: Exclusive political, entertainment, sports insight, unbiased-nonaligned. We are also on Instagram : https://t.co/qf1v42FMpb', url=None, entities={'description': {'urls': [{'url': 'https://t.co/qf1v42FMpb', 'expanded_url': 'https://www.instagram.com/indiatoday', 'display_url': 'instagram.com/indiatoday', 'indices': [124, 147]}]}}, protected=False, followers_count=5397975, friends_count=244, listed_count=5534, created_at=datetime.datetime(2009, 2, 2, 7, 21, 54), favourites_count=4432, utc_offset=None, time_zone=None, geo_enabled=True, verified=True, statuses_count=791787, lang=None, contributors_enabled=False, is_translator=False, is_translation_enabled=False, profile_background_color='C0DEED', profile_background_image_url='http://abs.twimg.com/images/themes/theme1/bg.png', profile_background_image_url_https='https://abs.twimg.com/images/themes/theme1/bg.png', profile_background_tile=False, profile_image_url='http://pbs.twimg.com/profile_images/1303193863775895552/sEOiKTvO_normal.jpg', profile_image_url_https='https://pbs.twimg.com/profile_images/1303193863775895552/sEOiKTvO_normal.jpg', profile_banner_url='https://pbs.twimg.com/profile_banners/19897138/1603784641', profile_link_color='1DA1F2', profile_sidebar_border_color='C0DEED', profile_sidebar_fill_color='DDEEF6', profile_text_color='333333', profile_use_background_image=True, has_extended_profile=True, default_profile=True, default_profile_image=False, following=False, follow_request_sent=False, notifications=False, translator_type='none'), user=User(_api=<tweepy.api.API object at 0x7fb63aa71a58>, _json={'id': 19897138, 'id_str': '19897138', 'name': 'IndiaToday', 'screen_name': 'IndiaToday', 'location': 'India', 'description': 'Brings you news breaks: Exclusive political, entertainment, sports insight, unbiased-nonaligned. We are also on Instagram : https://t.co/qf1v42FMpb', 'url': None, 'entities': {'description': {'urls': [{'url': 'https://t.co/qf1v42FMpb', 'expanded_url': 'https://www.instagram.com/indiatoday', 'display_url': 'instagram.com/indiatoday', 'indices': [124, 147]}]}}, 'protected': False, 'followers_count': 5397975, 'friends_count': 244, 'listed_count': 5534, 'created_at': 'Mon Feb 02 07:21:54 +0000 2009', 'favourites_count': 4432, 'utc_offset': None, 'time_zone': None, 'geo_enabled': True, 'verified': True, 'statuses_count': 791787, 'lang': None, 'contributors_enabled': False, 'is_translator': False, 'is_translation_enabled': False, 'profile_background_color': 'C0DEED', 'profile_background_image_url': 'http://abs.twimg.com/images/themes/theme1/bg.png', 'profile_background_image_url_https': 'https://abs.twimg.com/images/themes/theme1/bg.png', 'profile_background_tile': False, 'profile_image_url': 'http://pbs.twimg.com/profile_images/1303193863775895552/sEOiKTvO_normal.jpg', 'profile_image_url_https': 'https://pbs.twimg.com/profile_images/1303193863775895552/sEOiKTvO_normal.jpg', 'profile_banner_url': 'https://pbs.twimg.com/profile_banners/19897138/1603784641', 'profile_link_color': '1DA1F2', 'profile_sidebar_border_color': 'C0DEED', 'profile_sidebar_fill_color': 'DDEEF6', 'profile_text_color': '333333', 'profile_use_background_image': True, 'has_extended_profile': True, 'default_profile': True, 'default_profile_image': False, 'following': False, 'follow_request_sent': False, 'notifications': False, 'translator_type': 'none'}, id=19897138, id_str='19897138', name='IndiaToday', screen_name='IndiaToday', location='India', description='Brings you news breaks: Exclusive political, entertainment, sports insight, unbiased-nonaligned. We are also on Instagram : https://t.co/qf1v42FMpb', url=None, entities={'description': {'urls': [{'url': 'https://t.co/qf1v42FMpb', 'expanded_url': 'https://www.instagram.com/indiatoday', 'display_url': 'instagram.com/indiatoday', 'indices': [124, 147]}]}}, protected=False, followers_count=5397975, friends_count=244, listed_count=5534, created_at=datetime.datetime(2009, 2, 2, 7, 21, 54), favourites_count=4432, utc_offset=None, time_zone=None, geo_enabled=True, verified=True, statuses_count=791787, lang=None, contributors_enabled=False, is_translator=False, is_translation_enabled=False, profile_background_color='C0DEED', profile_background_image_url='http://abs.twimg.com/images/themes/theme1/bg.png', profile_background_image_url_https='https://abs.twimg.com/images/themes/theme1/bg.png', profile_background_tile=False, profile_image_url='http://pbs.twimg.com/profile_images/1303193863775895552/sEOiKTvO_normal.jpg', profile_image_url_https='https://pbs.twimg.com/profile_images/1303193863775895552/sEOiKTvO_normal.jpg', profile_banner_url='https://pbs.twimg.com/profile_banners/19897138/1603784641', profile_link_color='1DA1F2', profile_sidebar_border_color='C0DEED', profile_sidebar_fill_color='DDEEF6', profile_text_color='333333', profile_use_background_image=True, has_extended_profile=True, default_profile=True, default_profile_image=False, following=False, follow_request_sent=False, notifications=False, translator_type='none'), geo=None, coordinates=None, place=None, contributors=None, is_quote_status=False, retweet_count=2, favorite_count=27, favorited=False, retweeted=False, possibly_sensitive=False, lang='en') \n",
            "\n",
            ".....................................\n",
            "\n",
            "Status(_api=<tweepy.api.API object at 0x7fb63aa71a58>, _json={'created_at': 'Thu Oct 29 03:05:24 +0000 2020', 'id': 1321649306609180674, 'id_str': '1321649306609180674', 'full_text': 'Surya allowed his bat to do the talking. #IPL2020 #MIvRCB #SuryakumarYadav #ViratKohli \\nhttps://t.co/lRx43AEUtv', 'truncated': False, 'display_text_range': [0, 111], 'entities': {'hashtags': [{'text': 'IPL2020', 'indices': [41, 49]}, {'text': 'MIvRCB', 'indices': [50, 57]}, {'text': 'SuryakumarYadav', 'indices': [58, 74]}, {'text': 'ViratKohli', 'indices': [75, 86]}], 'symbols': [], 'user_mentions': [], 'urls': [{'url': 'https://t.co/lRx43AEUtv', 'expanded_url': 'https://www.india.com/sports/ipl-2020-mi-vs-rcb-suryakumar-yadavs-response-to-virat-kohlis-stare-down-after-match-winning-knock-in-abu-dhabi-is-classy-watch-4189660/', 'display_url': 'india.com/sports/ipl-202…', 'indices': [88, 111]}]}, 'metadata': {'iso_language_code': 'en', 'result_type': 'recent'}, 'source': '<a href=\"https://mobile.twitter.com\" rel=\"nofollow\">Twitter Web App</a>', 'in_reply_to_status_id': None, 'in_reply_to_status_id_str': None, 'in_reply_to_user_id': None, 'in_reply_to_user_id_str': None, 'in_reply_to_screen_name': None, 'user': {'id': 22793955, 'id_str': '22793955', 'name': 'India.com', 'screen_name': 'indiacom', 'location': 'India', 'description': 'Follow https://t.co/RBTHZHv1ga for breaking news from India and around the world, live cricket updates, Bollywood gossip, travel tips and latest trends.', 'url': 'http://t.co/BiOdkjo3Rr', 'entities': {'url': {'urls': [{'url': 'http://t.co/BiOdkjo3Rr', 'expanded_url': 'http://www.india.com', 'display_url': 'india.com', 'indices': [0, 22]}]}, 'description': {'urls': [{'url': 'https://t.co/RBTHZHv1ga', 'expanded_url': 'http://India.com', 'display_url': 'India.com', 'indices': [7, 30]}]}}, 'protected': False, 'followers_count': 12883, 'friends_count': 372, 'listed_count': 244, 'created_at': 'Wed Mar 04 16:20:07 +0000 2009', 'favourites_count': 317, 'utc_offset': None, 'time_zone': None, 'geo_enabled': True, 'verified': True, 'statuses_count': 194530, 'lang': None, 'contributors_enabled': False, 'is_translator': False, 'is_translation_enabled': False, 'profile_background_color': 'C0DEED', 'profile_background_image_url': 'http://abs.twimg.com/images/themes/theme1/bg.png', 'profile_background_image_url_https': 'https://abs.twimg.com/images/themes/theme1/bg.png', 'profile_background_tile': False, 'profile_image_url': 'http://pbs.twimg.com/profile_images/1149599189787013121/Uc2CuNRv_normal.png', 'profile_image_url_https': 'https://pbs.twimg.com/profile_images/1149599189787013121/Uc2CuNRv_normal.png', 'profile_banner_url': 'https://pbs.twimg.com/profile_banners/22793955/1589270359', 'profile_link_color': '1B95E0', 'profile_sidebar_border_color': 'FFFFFF', 'profile_sidebar_fill_color': 'DDEEF6', 'profile_text_color': '333333', 'profile_use_background_image': False, 'has_extended_profile': False, 'default_profile': False, 'default_profile_image': False, 'following': False, 'follow_request_sent': False, 'notifications': False, 'translator_type': 'none'}, 'geo': None, 'coordinates': None, 'place': None, 'contributors': None, 'is_quote_status': False, 'retweet_count': 0, 'favorite_count': 2, 'favorited': False, 'retweeted': False, 'possibly_sensitive': False, 'lang': 'en'}, created_at=datetime.datetime(2020, 10, 29, 3, 5, 24), id=1321649306609180674, id_str='1321649306609180674', full_text='Surya allowed his bat to do the talking. #IPL2020 #MIvRCB #SuryakumarYadav #ViratKohli \\nhttps://t.co/lRx43AEUtv', truncated=False, display_text_range=[0, 111], entities={'hashtags': [{'text': 'IPL2020', 'indices': [41, 49]}, {'text': 'MIvRCB', 'indices': [50, 57]}, {'text': 'SuryakumarYadav', 'indices': [58, 74]}, {'text': 'ViratKohli', 'indices': [75, 86]}], 'symbols': [], 'user_mentions': [], 'urls': [{'url': 'https://t.co/lRx43AEUtv', 'expanded_url': 'https://www.india.com/sports/ipl-2020-mi-vs-rcb-suryakumar-yadavs-response-to-virat-kohlis-stare-down-after-match-winning-knock-in-abu-dhabi-is-classy-watch-4189660/', 'display_url': 'india.com/sports/ipl-202…', 'indices': [88, 111]}]}, metadata={'iso_language_code': 'en', 'result_type': 'recent'}, source='Twitter Web App', source_url='https://mobile.twitter.com', in_reply_to_status_id=None, in_reply_to_status_id_str=None, in_reply_to_user_id=None, in_reply_to_user_id_str=None, in_reply_to_screen_name=None, author=User(_api=<tweepy.api.API object at 0x7fb63aa71a58>, _json={'id': 22793955, 'id_str': '22793955', 'name': 'India.com', 'screen_name': 'indiacom', 'location': 'India', 'description': 'Follow https://t.co/RBTHZHv1ga for breaking news from India and around the world, live cricket updates, Bollywood gossip, travel tips and latest trends.', 'url': 'http://t.co/BiOdkjo3Rr', 'entities': {'url': {'urls': [{'url': 'http://t.co/BiOdkjo3Rr', 'expanded_url': 'http://www.india.com', 'display_url': 'india.com', 'indices': [0, 22]}]}, 'description': {'urls': [{'url': 'https://t.co/RBTHZHv1ga', 'expanded_url': 'http://India.com', 'display_url': 'India.com', 'indices': [7, 30]}]}}, 'protected': False, 'followers_count': 12883, 'friends_count': 372, 'listed_count': 244, 'created_at': 'Wed Mar 04 16:20:07 +0000 2009', 'favourites_count': 317, 'utc_offset': None, 'time_zone': None, 'geo_enabled': True, 'verified': True, 'statuses_count': 194530, 'lang': None, 'contributors_enabled': False, 'is_translator': False, 'is_translation_enabled': False, 'profile_background_color': 'C0DEED', 'profile_background_image_url': 'http://abs.twimg.com/images/themes/theme1/bg.png', 'profile_background_image_url_https': 'https://abs.twimg.com/images/themes/theme1/bg.png', 'profile_background_tile': False, 'profile_image_url': 'http://pbs.twimg.com/profile_images/1149599189787013121/Uc2CuNRv_normal.png', 'profile_image_url_https': 'https://pbs.twimg.com/profile_images/1149599189787013121/Uc2CuNRv_normal.png', 'profile_banner_url': 'https://pbs.twimg.com/profile_banners/22793955/1589270359', 'profile_link_color': '1B95E0', 'profile_sidebar_border_color': 'FFFFFF', 'profile_sidebar_fill_color': 'DDEEF6', 'profile_text_color': '333333', 'profile_use_background_image': False, 'has_extended_profile': False, 'default_profile': False, 'default_profile_image': False, 'following': False, 'follow_request_sent': False, 'notifications': False, 'translator_type': 'none'}, id=22793955, id_str='22793955', name='India.com', screen_name='indiacom', location='India', description='Follow https://t.co/RBTHZHv1ga for breaking news from India and around the world, live cricket updates, Bollywood gossip, travel tips and latest trends.', url='http://t.co/BiOdkjo3Rr', entities={'url': {'urls': [{'url': 'http://t.co/BiOdkjo3Rr', 'expanded_url': 'http://www.india.com', 'display_url': 'india.com', 'indices': [0, 22]}]}, 'description': {'urls': [{'url': 'https://t.co/RBTHZHv1ga', 'expanded_url': 'http://India.com', 'display_url': 'India.com', 'indices': [7, 30]}]}}, protected=False, followers_count=12883, friends_count=372, listed_count=244, created_at=datetime.datetime(2009, 3, 4, 16, 20, 7), favourites_count=317, utc_offset=None, time_zone=None, geo_enabled=True, verified=True, statuses_count=194530, lang=None, contributors_enabled=False, is_translator=False, is_translation_enabled=False, profile_background_color='C0DEED', profile_background_image_url='http://abs.twimg.com/images/themes/theme1/bg.png', profile_background_image_url_https='https://abs.twimg.com/images/themes/theme1/bg.png', profile_background_tile=False, profile_image_url='http://pbs.twimg.com/profile_images/1149599189787013121/Uc2CuNRv_normal.png', profile_image_url_https='https://pbs.twimg.com/profile_images/1149599189787013121/Uc2CuNRv_normal.png', profile_banner_url='https://pbs.twimg.com/profile_banners/22793955/1589270359', profile_link_color='1B95E0', profile_sidebar_border_color='FFFFFF', profile_sidebar_fill_color='DDEEF6', profile_text_color='333333', profile_use_background_image=False, has_extended_profile=False, default_profile=False, default_profile_image=False, following=False, follow_request_sent=False, notifications=False, translator_type='none'), user=User(_api=<tweepy.api.API object at 0x7fb63aa71a58>, _json={'id': 22793955, 'id_str': '22793955', 'name': 'India.com', 'screen_name': 'indiacom', 'location': 'India', 'description': 'Follow https://t.co/RBTHZHv1ga for breaking news from India and around the world, live cricket updates, Bollywood gossip, travel tips and latest trends.', 'url': 'http://t.co/BiOdkjo3Rr', 'entities': {'url': {'urls': [{'url': 'http://t.co/BiOdkjo3Rr', 'expanded_url': 'http://www.india.com', 'display_url': 'india.com', 'indices': [0, 22]}]}, 'description': {'urls': [{'url': 'https://t.co/RBTHZHv1ga', 'expanded_url': 'http://India.com', 'display_url': 'India.com', 'indices': [7, 30]}]}}, 'protected': False, 'followers_count': 12883, 'friends_count': 372, 'listed_count': 244, 'created_at': 'Wed Mar 04 16:20:07 +0000 2009', 'favourites_count': 317, 'utc_offset': None, 'time_zone': None, 'geo_enabled': True, 'verified': True, 'statuses_count': 194530, 'lang': None, 'contributors_enabled': False, 'is_translator': False, 'is_translation_enabled': False, 'profile_background_color': 'C0DEED', 'profile_background_image_url': 'http://abs.twimg.com/images/themes/theme1/bg.png', 'profile_background_image_url_https': 'https://abs.twimg.com/images/themes/theme1/bg.png', 'profile_background_tile': False, 'profile_image_url': 'http://pbs.twimg.com/profile_images/1149599189787013121/Uc2CuNRv_normal.png', 'profile_image_url_https': 'https://pbs.twimg.com/profile_images/1149599189787013121/Uc2CuNRv_normal.png', 'profile_banner_url': 'https://pbs.twimg.com/profile_banners/22793955/1589270359', 'profile_link_color': '1B95E0', 'profile_sidebar_border_color': 'FFFFFF', 'profile_sidebar_fill_color': 'DDEEF6', 'profile_text_color': '333333', 'profile_use_background_image': False, 'has_extended_profile': False, 'default_profile': False, 'default_profile_image': False, 'following': False, 'follow_request_sent': False, 'notifications': False, 'translator_type': 'none'}, id=22793955, id_str='22793955', name='India.com', screen_name='indiacom', location='India', description='Follow https://t.co/RBTHZHv1ga for breaking news from India and around the world, live cricket updates, Bollywood gossip, travel tips and latest trends.', url='http://t.co/BiOdkjo3Rr', entities={'url': {'urls': [{'url': 'http://t.co/BiOdkjo3Rr', 'expanded_url': 'http://www.india.com', 'display_url': 'india.com', 'indices': [0, 22]}]}, 'description': {'urls': [{'url': 'https://t.co/RBTHZHv1ga', 'expanded_url': 'http://India.com', 'display_url': 'India.com', 'indices': [7, 30]}]}}, protected=False, followers_count=12883, friends_count=372, listed_count=244, created_at=datetime.datetime(2009, 3, 4, 16, 20, 7), favourites_count=317, utc_offset=None, time_zone=None, geo_enabled=True, verified=True, statuses_count=194530, lang=None, contributors_enabled=False, is_translator=False, is_translation_enabled=False, profile_background_color='C0DEED', profile_background_image_url='http://abs.twimg.com/images/themes/theme1/bg.png', profile_background_image_url_https='https://abs.twimg.com/images/themes/theme1/bg.png', profile_background_tile=False, profile_image_url='http://pbs.twimg.com/profile_images/1149599189787013121/Uc2CuNRv_normal.png', profile_image_url_https='https://pbs.twimg.com/profile_images/1149599189787013121/Uc2CuNRv_normal.png', profile_banner_url='https://pbs.twimg.com/profile_banners/22793955/1589270359', profile_link_color='1B95E0', profile_sidebar_border_color='FFFFFF', profile_sidebar_fill_color='DDEEF6', profile_text_color='333333', profile_use_background_image=False, has_extended_profile=False, default_profile=False, default_profile_image=False, following=False, follow_request_sent=False, notifications=False, translator_type='none'), geo=None, coordinates=None, place=None, contributors=None, is_quote_status=False, retweet_count=0, favorite_count=2, favorited=False, retweeted=False, possibly_sensitive=False, lang='en') \n",
            "\n",
            ".....................................\n",
            "\n",
            "Status(_api=<tweepy.api.API object at 0x7fb63aa71a58>, _json={'created_at': 'Thu Oct 29 02:45:54 +0000 2020', 'id': 1321644399751700480, 'id_str': '1321644399751700480', 'full_text': \"@DUKEREACTS @dada1991_dc @imVkohli @RCBTweets @SGanguly99 @vikrantgupta73 @rawatrahul9 @klrahul11 @ImRo45 😂😂😂 King in loosing matches. And SKY showed what a guy in form can do. RCB winning IPL can only happen in dream and India winning any trophy under his captaincy is also a dream. The one who selects people with good boot licking abilities can't win us a trophy\", 'truncated': False, 'display_text_range': [106, 365], 'entities': {'hashtags': [], 'symbols': [], 'user_mentions': [{'screen_name': 'DUKEREACTS', 'name': 'DUKE REACTS!', 'id': 4895271209, 'id_str': '4895271209', 'indices': [0, 11]}, {'screen_name': 'dada1991_dc', 'name': 'Darshil Chheda - DC', 'id': 87405145, 'id_str': '87405145', 'indices': [12, 24]}, {'screen_name': 'imVkohli', 'name': 'Virat Kohli', 'id': 71201743, 'id_str': '71201743', 'indices': [25, 34]}, {'screen_name': 'RCBTweets', 'name': 'Royal Challengers Bangalore', 'id': 70931004, 'id_str': '70931004', 'indices': [35, 45]}, {'screen_name': 'SGanguly99', 'name': 'Sourav Ganguly', 'id': 2708915372, 'id_str': '2708915372', 'indices': [46, 57]}, {'screen_name': 'vikrantgupta73', 'name': 'Vikrant Gupta', 'id': 135110894, 'id_str': '135110894', 'indices': [58, 73]}, {'screen_name': 'rawatrahul9', 'name': 'Rahul Rawat', 'id': 137612094, 'id_str': '137612094', 'indices': [74, 86]}, {'screen_name': 'klrahul11', 'name': 'K L Rahul', 'id': 1469065189, 'id_str': '1469065189', 'indices': [87, 97]}, {'screen_name': 'ImRo45', 'name': 'Rohit Sharma', 'id': 121046433, 'id_str': '121046433', 'indices': [98, 105]}], 'urls': []}, 'metadata': {'iso_language_code': 'en', 'result_type': 'recent'}, 'source': '<a href=\"http://twitter.com/download/android\" rel=\"nofollow\">Twitter for Android</a>', 'in_reply_to_status_id': 1321521013750837248, 'in_reply_to_status_id_str': '1321521013750837248', 'in_reply_to_user_id': 4895271209, 'in_reply_to_user_id_str': '4895271209', 'in_reply_to_screen_name': 'DUKEREACTS', 'user': {'id': 918290399919140864, 'id_str': '918290399919140864', 'name': 'Monu 1011', 'screen_name': '1011Monu', 'location': '', 'description': '', 'url': None, 'entities': {'description': {'urls': []}}, 'protected': False, 'followers_count': 0, 'friends_count': 1, 'listed_count': 0, 'created_at': 'Thu Oct 12 01:41:07 +0000 2017', 'favourites_count': 0, 'utc_offset': None, 'time_zone': None, 'geo_enabled': False, 'verified': False, 'statuses_count': 16, 'lang': None, 'contributors_enabled': False, 'is_translator': False, 'is_translation_enabled': False, 'profile_background_color': 'F5F8FA', 'profile_background_image_url': None, 'profile_background_image_url_https': None, 'profile_background_tile': False, 'profile_image_url': 'http://abs.twimg.com/sticky/default_profile_images/default_profile_normal.png', 'profile_image_url_https': 'https://abs.twimg.com/sticky/default_profile_images/default_profile_normal.png', 'profile_link_color': '1DA1F2', 'profile_sidebar_border_color': 'C0DEED', 'profile_sidebar_fill_color': 'DDEEF6', 'profile_text_color': '333333', 'profile_use_background_image': True, 'has_extended_profile': False, 'default_profile': True, 'default_profile_image': True, 'following': False, 'follow_request_sent': False, 'notifications': False, 'translator_type': 'none'}, 'geo': None, 'coordinates': None, 'place': None, 'contributors': None, 'is_quote_status': False, 'retweet_count': 0, 'favorite_count': 0, 'favorited': False, 'retweeted': False, 'lang': 'en'}, created_at=datetime.datetime(2020, 10, 29, 2, 45, 54), id=1321644399751700480, id_str='1321644399751700480', full_text=\"@DUKEREACTS @dada1991_dc @imVkohli @RCBTweets @SGanguly99 @vikrantgupta73 @rawatrahul9 @klrahul11 @ImRo45 😂😂😂 King in loosing matches. And SKY showed what a guy in form can do. RCB winning IPL can only happen in dream and India winning any trophy under his captaincy is also a dream. The one who selects people with good boot licking abilities can't win us a trophy\", truncated=False, display_text_range=[106, 365], entities={'hashtags': [], 'symbols': [], 'user_mentions': [{'screen_name': 'DUKEREACTS', 'name': 'DUKE REACTS!', 'id': 4895271209, 'id_str': '4895271209', 'indices': [0, 11]}, {'screen_name': 'dada1991_dc', 'name': 'Darshil Chheda - DC', 'id': 87405145, 'id_str': '87405145', 'indices': [12, 24]}, {'screen_name': 'imVkohli', 'name': 'Virat Kohli', 'id': 71201743, 'id_str': '71201743', 'indices': [25, 34]}, {'screen_name': 'RCBTweets', 'name': 'Royal Challengers Bangalore', 'id': 70931004, 'id_str': '70931004', 'indices': [35, 45]}, {'screen_name': 'SGanguly99', 'name': 'Sourav Ganguly', 'id': 2708915372, 'id_str': '2708915372', 'indices': [46, 57]}, {'screen_name': 'vikrantgupta73', 'name': 'Vikrant Gupta', 'id': 135110894, 'id_str': '135110894', 'indices': [58, 73]}, {'screen_name': 'rawatrahul9', 'name': 'Rahul Rawat', 'id': 137612094, 'id_str': '137612094', 'indices': [74, 86]}, {'screen_name': 'klrahul11', 'name': 'K L Rahul', 'id': 1469065189, 'id_str': '1469065189', 'indices': [87, 97]}, {'screen_name': 'ImRo45', 'name': 'Rohit Sharma', 'id': 121046433, 'id_str': '121046433', 'indices': [98, 105]}], 'urls': []}, metadata={'iso_language_code': 'en', 'result_type': 'recent'}, source='Twitter for Android', source_url='http://twitter.com/download/android', in_reply_to_status_id=1321521013750837248, in_reply_to_status_id_str='1321521013750837248', in_reply_to_user_id=4895271209, in_reply_to_user_id_str='4895271209', in_reply_to_screen_name='DUKEREACTS', author=User(_api=<tweepy.api.API object at 0x7fb63aa71a58>, _json={'id': 918290399919140864, 'id_str': '918290399919140864', 'name': 'Monu 1011', 'screen_name': '1011Monu', 'location': '', 'description': '', 'url': None, 'entities': {'description': {'urls': []}}, 'protected': False, 'followers_count': 0, 'friends_count': 1, 'listed_count': 0, 'created_at': 'Thu Oct 12 01:41:07 +0000 2017', 'favourites_count': 0, 'utc_offset': None, 'time_zone': None, 'geo_enabled': False, 'verified': False, 'statuses_count': 16, 'lang': None, 'contributors_enabled': False, 'is_translator': False, 'is_translation_enabled': False, 'profile_background_color': 'F5F8FA', 'profile_background_image_url': None, 'profile_background_image_url_https': None, 'profile_background_tile': False, 'profile_image_url': 'http://abs.twimg.com/sticky/default_profile_images/default_profile_normal.png', 'profile_image_url_https': 'https://abs.twimg.com/sticky/default_profile_images/default_profile_normal.png', 'profile_link_color': '1DA1F2', 'profile_sidebar_border_color': 'C0DEED', 'profile_sidebar_fill_color': 'DDEEF6', 'profile_text_color': '333333', 'profile_use_background_image': True, 'has_extended_profile': False, 'default_profile': True, 'default_profile_image': True, 'following': False, 'follow_request_sent': False, 'notifications': False, 'translator_type': 'none'}, id=918290399919140864, id_str='918290399919140864', name='Monu 1011', screen_name='1011Monu', location='', description='', url=None, entities={'description': {'urls': []}}, protected=False, followers_count=0, friends_count=1, listed_count=0, created_at=datetime.datetime(2017, 10, 12, 1, 41, 7), favourites_count=0, utc_offset=None, time_zone=None, geo_enabled=False, verified=False, statuses_count=16, lang=None, contributors_enabled=False, is_translator=False, is_translation_enabled=False, profile_background_color='F5F8FA', profile_background_image_url=None, profile_background_image_url_https=None, profile_background_tile=False, profile_image_url='http://abs.twimg.com/sticky/default_profile_images/default_profile_normal.png', profile_image_url_https='https://abs.twimg.com/sticky/default_profile_images/default_profile_normal.png', profile_link_color='1DA1F2', profile_sidebar_border_color='C0DEED', profile_sidebar_fill_color='DDEEF6', profile_text_color='333333', profile_use_background_image=True, has_extended_profile=False, default_profile=True, default_profile_image=True, following=False, follow_request_sent=False, notifications=False, translator_type='none'), user=User(_api=<tweepy.api.API object at 0x7fb63aa71a58>, _json={'id': 918290399919140864, 'id_str': '918290399919140864', 'name': 'Monu 1011', 'screen_name': '1011Monu', 'location': '', 'description': '', 'url': None, 'entities': {'description': {'urls': []}}, 'protected': False, 'followers_count': 0, 'friends_count': 1, 'listed_count': 0, 'created_at': 'Thu Oct 12 01:41:07 +0000 2017', 'favourites_count': 0, 'utc_offset': None, 'time_zone': None, 'geo_enabled': False, 'verified': False, 'statuses_count': 16, 'lang': None, 'contributors_enabled': False, 'is_translator': False, 'is_translation_enabled': False, 'profile_background_color': 'F5F8FA', 'profile_background_image_url': None, 'profile_background_image_url_https': None, 'profile_background_tile': False, 'profile_image_url': 'http://abs.twimg.com/sticky/default_profile_images/default_profile_normal.png', 'profile_image_url_https': 'https://abs.twimg.com/sticky/default_profile_images/default_profile_normal.png', 'profile_link_color': '1DA1F2', 'profile_sidebar_border_color': 'C0DEED', 'profile_sidebar_fill_color': 'DDEEF6', 'profile_text_color': '333333', 'profile_use_background_image': True, 'has_extended_profile': False, 'default_profile': True, 'default_profile_image': True, 'following': False, 'follow_request_sent': False, 'notifications': False, 'translator_type': 'none'}, id=918290399919140864, id_str='918290399919140864', name='Monu 1011', screen_name='1011Monu', location='', description='', url=None, entities={'description': {'urls': []}}, protected=False, followers_count=0, friends_count=1, listed_count=0, created_at=datetime.datetime(2017, 10, 12, 1, 41, 7), favourites_count=0, utc_offset=None, time_zone=None, geo_enabled=False, verified=False, statuses_count=16, lang=None, contributors_enabled=False, is_translator=False, is_translation_enabled=False, profile_background_color='F5F8FA', profile_background_image_url=None, profile_background_image_url_https=None, profile_background_tile=False, profile_image_url='http://abs.twimg.com/sticky/default_profile_images/default_profile_normal.png', profile_image_url_https='https://abs.twimg.com/sticky/default_profile_images/default_profile_normal.png', profile_link_color='1DA1F2', profile_sidebar_border_color='C0DEED', profile_sidebar_fill_color='DDEEF6', profile_text_color='333333', profile_use_background_image=True, has_extended_profile=False, default_profile=True, default_profile_image=True, following=False, follow_request_sent=False, notifications=False, translator_type='none'), geo=None, coordinates=None, place=None, contributors=None, is_quote_status=False, retweet_count=0, favorite_count=0, favorited=False, retweeted=False, lang='en') \n",
            "\n",
            ".....................................\n",
            "\n",
            "Status(_api=<tweepy.api.API object at 0x7fb63aa71a58>, _json={'created_at': 'Thu Oct 29 02:28:25 +0000 2020', 'id': 1321640000945942529, 'id_str': '1321640000945942529', 'full_text': \"#IPL2020 Hope selectors are watching: Harbhajan Singh hails #Suryakumar's match-winning knock against RCB\\n\\nhttps://t.co/839NhUXgCo\", 'truncated': False, 'display_text_range': [0, 130], 'entities': {'hashtags': [{'text': 'IPL2020', 'indices': [0, 8]}, {'text': 'Suryakumar', 'indices': [60, 71]}], 'symbols': [], 'user_mentions': [], 'urls': [{'url': 'https://t.co/839NhUXgCo', 'expanded_url': 'https://www.indiatvnews.com/sports/cricket/ipl-2020-rcb-vs-mi-hope-selectors-are-watching-harbhajan-singh-hails-suryakumar-yadav-s-match-winning-knock-660678', 'display_url': 'indiatvnews.com/sports/cricket…', 'indices': [107, 130]}]}, 'metadata': {'iso_language_code': 'en', 'result_type': 'recent'}, 'source': '<a href=\"https://mobile.twitter.com\" rel=\"nofollow\">Twitter Web App</a>', 'in_reply_to_status_id': None, 'in_reply_to_status_id_str': None, 'in_reply_to_user_id': None, 'in_reply_to_user_id_str': None, 'in_reply_to_screen_name': None, 'user': {'id': 1120599170656509953, 'id_str': '1120599170656509953', 'name': 'IndiaTVSports', 'screen_name': 'IndiaTVSports', 'location': 'Noida, India', 'description': 'One-stop destination for all sports-related content, including Live Match Coverage, News, Videos, Photos and much more.', 'url': None, 'entities': {'description': {'urls': []}}, 'protected': False, 'followers_count': 1424, 'friends_count': 9, 'listed_count': 5, 'created_at': 'Tue Apr 23 08:03:56 +0000 2019', 'favourites_count': 0, 'utc_offset': None, 'time_zone': None, 'geo_enabled': False, 'verified': False, 'statuses_count': 16735, 'lang': None, 'contributors_enabled': False, 'is_translator': False, 'is_translation_enabled': False, 'profile_background_color': 'F5F8FA', 'profile_background_image_url': None, 'profile_background_image_url_https': None, 'profile_background_tile': False, 'profile_image_url': 'http://pbs.twimg.com/profile_images/1120599503311007745/0Z7Wzhuz_normal.png', 'profile_image_url_https': 'https://pbs.twimg.com/profile_images/1120599503311007745/0Z7Wzhuz_normal.png', 'profile_banner_url': 'https://pbs.twimg.com/profile_banners/1120599170656509953/1575375865', 'profile_link_color': '1DA1F2', 'profile_sidebar_border_color': 'C0DEED', 'profile_sidebar_fill_color': 'DDEEF6', 'profile_text_color': '333333', 'profile_use_background_image': True, 'has_extended_profile': False, 'default_profile': True, 'default_profile_image': False, 'following': False, 'follow_request_sent': False, 'notifications': False, 'translator_type': 'none'}, 'geo': None, 'coordinates': None, 'place': None, 'contributors': None, 'is_quote_status': False, 'retweet_count': 1, 'favorite_count': 14, 'favorited': False, 'retweeted': False, 'possibly_sensitive': False, 'lang': 'en'}, created_at=datetime.datetime(2020, 10, 29, 2, 28, 25), id=1321640000945942529, id_str='1321640000945942529', full_text=\"#IPL2020 Hope selectors are watching: Harbhajan Singh hails #Suryakumar's match-winning knock against RCB\\n\\nhttps://t.co/839NhUXgCo\", truncated=False, display_text_range=[0, 130], entities={'hashtags': [{'text': 'IPL2020', 'indices': [0, 8]}, {'text': 'Suryakumar', 'indices': [60, 71]}], 'symbols': [], 'user_mentions': [], 'urls': [{'url': 'https://t.co/839NhUXgCo', 'expanded_url': 'https://www.indiatvnews.com/sports/cricket/ipl-2020-rcb-vs-mi-hope-selectors-are-watching-harbhajan-singh-hails-suryakumar-yadav-s-match-winning-knock-660678', 'display_url': 'indiatvnews.com/sports/cricket…', 'indices': [107, 130]}]}, metadata={'iso_language_code': 'en', 'result_type': 'recent'}, source='Twitter Web App', source_url='https://mobile.twitter.com', in_reply_to_status_id=None, in_reply_to_status_id_str=None, in_reply_to_user_id=None, in_reply_to_user_id_str=None, in_reply_to_screen_name=None, author=User(_api=<tweepy.api.API object at 0x7fb63aa71a58>, _json={'id': 1120599170656509953, 'id_str': '1120599170656509953', 'name': 'IndiaTVSports', 'screen_name': 'IndiaTVSports', 'location': 'Noida, India', 'description': 'One-stop destination for all sports-related content, including Live Match Coverage, News, Videos, Photos and much more.', 'url': None, 'entities': {'description': {'urls': []}}, 'protected': False, 'followers_count': 1424, 'friends_count': 9, 'listed_count': 5, 'created_at': 'Tue Apr 23 08:03:56 +0000 2019', 'favourites_count': 0, 'utc_offset': None, 'time_zone': None, 'geo_enabled': False, 'verified': False, 'statuses_count': 16735, 'lang': None, 'contributors_enabled': False, 'is_translator': False, 'is_translation_enabled': False, 'profile_background_color': 'F5F8FA', 'profile_background_image_url': None, 'profile_background_image_url_https': None, 'profile_background_tile': False, 'profile_image_url': 'http://pbs.twimg.com/profile_images/1120599503311007745/0Z7Wzhuz_normal.png', 'profile_image_url_https': 'https://pbs.twimg.com/profile_images/1120599503311007745/0Z7Wzhuz_normal.png', 'profile_banner_url': 'https://pbs.twimg.com/profile_banners/1120599170656509953/1575375865', 'profile_link_color': '1DA1F2', 'profile_sidebar_border_color': 'C0DEED', 'profile_sidebar_fill_color': 'DDEEF6', 'profile_text_color': '333333', 'profile_use_background_image': True, 'has_extended_profile': False, 'default_profile': True, 'default_profile_image': False, 'following': False, 'follow_request_sent': False, 'notifications': False, 'translator_type': 'none'}, id=1120599170656509953, id_str='1120599170656509953', name='IndiaTVSports', screen_name='IndiaTVSports', location='Noida, India', description='One-stop destination for all sports-related content, including Live Match Coverage, News, Videos, Photos and much more.', url=None, entities={'description': {'urls': []}}, protected=False, followers_count=1424, friends_count=9, listed_count=5, created_at=datetime.datetime(2019, 4, 23, 8, 3, 56), favourites_count=0, utc_offset=None, time_zone=None, geo_enabled=False, verified=False, statuses_count=16735, lang=None, contributors_enabled=False, is_translator=False, is_translation_enabled=False, profile_background_color='F5F8FA', profile_background_image_url=None, profile_background_image_url_https=None, profile_background_tile=False, profile_image_url='http://pbs.twimg.com/profile_images/1120599503311007745/0Z7Wzhuz_normal.png', profile_image_url_https='https://pbs.twimg.com/profile_images/1120599503311007745/0Z7Wzhuz_normal.png', profile_banner_url='https://pbs.twimg.com/profile_banners/1120599170656509953/1575375865', profile_link_color='1DA1F2', profile_sidebar_border_color='C0DEED', profile_sidebar_fill_color='DDEEF6', profile_text_color='333333', profile_use_background_image=True, has_extended_profile=False, default_profile=True, default_profile_image=False, following=False, follow_request_sent=False, notifications=False, translator_type='none'), user=User(_api=<tweepy.api.API object at 0x7fb63aa71a58>, _json={'id': 1120599170656509953, 'id_str': '1120599170656509953', 'name': 'IndiaTVSports', 'screen_name': 'IndiaTVSports', 'location': 'Noida, India', 'description': 'One-stop destination for all sports-related content, including Live Match Coverage, News, Videos, Photos and much more.', 'url': None, 'entities': {'description': {'urls': []}}, 'protected': False, 'followers_count': 1424, 'friends_count': 9, 'listed_count': 5, 'created_at': 'Tue Apr 23 08:03:56 +0000 2019', 'favourites_count': 0, 'utc_offset': None, 'time_zone': None, 'geo_enabled': False, 'verified': False, 'statuses_count': 16735, 'lang': None, 'contributors_enabled': False, 'is_translator': False, 'is_translation_enabled': False, 'profile_background_color': 'F5F8FA', 'profile_background_image_url': None, 'profile_background_image_url_https': None, 'profile_background_tile': False, 'profile_image_url': 'http://pbs.twimg.com/profile_images/1120599503311007745/0Z7Wzhuz_normal.png', 'profile_image_url_https': 'https://pbs.twimg.com/profile_images/1120599503311007745/0Z7Wzhuz_normal.png', 'profile_banner_url': 'https://pbs.twimg.com/profile_banners/1120599170656509953/1575375865', 'profile_link_color': '1DA1F2', 'profile_sidebar_border_color': 'C0DEED', 'profile_sidebar_fill_color': 'DDEEF6', 'profile_text_color': '333333', 'profile_use_background_image': True, 'has_extended_profile': False, 'default_profile': True, 'default_profile_image': False, 'following': False, 'follow_request_sent': False, 'notifications': False, 'translator_type': 'none'}, id=1120599170656509953, id_str='1120599170656509953', name='IndiaTVSports', screen_name='IndiaTVSports', location='Noida, India', description='One-stop destination for all sports-related content, including Live Match Coverage, News, Videos, Photos and much more.', url=None, entities={'description': {'urls': []}}, protected=False, followers_count=1424, friends_count=9, listed_count=5, created_at=datetime.datetime(2019, 4, 23, 8, 3, 56), favourites_count=0, utc_offset=None, time_zone=None, geo_enabled=False, verified=False, statuses_count=16735, lang=None, contributors_enabled=False, is_translator=False, is_translation_enabled=False, profile_background_color='F5F8FA', profile_background_image_url=None, profile_background_image_url_https=None, profile_background_tile=False, profile_image_url='http://pbs.twimg.com/profile_images/1120599503311007745/0Z7Wzhuz_normal.png', profile_image_url_https='https://pbs.twimg.com/profile_images/1120599503311007745/0Z7Wzhuz_normal.png', profile_banner_url='https://pbs.twimg.com/profile_banners/1120599170656509953/1575375865', profile_link_color='1DA1F2', profile_sidebar_border_color='C0DEED', profile_sidebar_fill_color='DDEEF6', profile_text_color='333333', profile_use_background_image=True, has_extended_profile=False, default_profile=True, default_profile_image=False, following=False, follow_request_sent=False, notifications=False, translator_type='none'), geo=None, coordinates=None, place=None, contributors=None, is_quote_status=False, retweet_count=1, favorite_count=14, favorited=False, retweeted=False, possibly_sensitive=False, lang='en') \n",
            "\n",
            ".....................................\n",
            "\n",
            "Status(_api=<tweepy.api.API object at 0x7fb63aa71a58>, _json={'created_at': 'Thu Oct 29 01:44:39 +0000 2020', 'id': 1321628985827061760, 'id_str': '1321628985827061760', 'full_text': \"IPL 2020, MI vs RCB: Social Media Abuzz With Suryakumar Yadav's Match-Winning Knock Two Days After Missing India Selection : Once again proved - Politics , Plot and Favouritism’s win over pure performance and TALENT! \\n\\u2066@BCCI\\u2069 \\u2066@BCCIdomestic\\u2069  https://t.co/jYH23KZ7IO\", 'truncated': False, 'display_text_range': [0, 266], 'entities': {'hashtags': [], 'symbols': [], 'user_mentions': [{'screen_name': 'BCCI', 'name': 'BCCI', 'id': 185142711, 'id_str': '185142711', 'indices': [219, 224]}, {'screen_name': 'BCCIdomestic', 'name': 'BCCI Domestic', 'id': 1014634303, 'id_str': '1014634303', 'indices': [227, 240]}], 'urls': [{'url': 'https://t.co/jYH23KZ7IO', 'expanded_url': 'https://sports.ndtv.com/ipl-2020/indian-premier-league-2020-mumbai-indians-vs-royal-challengers-bangalore-social-media-abuzz-with-suryakumar-yadav-after-his-match-winning-knock-for-mi-2317218', 'display_url': 'sports.ndtv.com/ipl-2020/india…', 'indices': [243, 266]}]}, 'metadata': {'iso_language_code': 'en', 'result_type': 'recent'}, 'source': '<a href=\"http://twitter.com/download/iphone\" rel=\"nofollow\">Twitter for iPhone</a>', 'in_reply_to_status_id': None, 'in_reply_to_status_id_str': None, 'in_reply_to_user_id': None, 'in_reply_to_user_id_str': None, 'in_reply_to_screen_name': None, 'user': {'id': 358134683, 'id_str': '358134683', 'name': 'tushar', 'screen_name': 'rtushar_ind', 'location': 'Bhubaneswar', 'description': 'God knew, without Me the World would have been a Mistake! :)', 'url': None, 'entities': {'description': {'urls': []}}, 'protected': False, 'followers_count': 114, 'friends_count': 86, 'listed_count': 13, 'created_at': 'Fri Aug 19 12:47:48 +0000 2011', 'favourites_count': 10151, 'utc_offset': None, 'time_zone': None, 'geo_enabled': True, 'verified': False, 'statuses_count': 19388, 'lang': None, 'contributors_enabled': False, 'is_translator': False, 'is_translation_enabled': False, 'profile_background_color': 'B2DFDA', 'profile_background_image_url': 'http://abs.twimg.com/images/themes/theme13/bg.gif', 'profile_background_image_url_https': 'https://abs.twimg.com/images/themes/theme13/bg.gif', 'profile_background_tile': False, 'profile_image_url': 'http://pbs.twimg.com/profile_images/1293077263093764096/qKicRTFe_normal.jpg', 'profile_image_url_https': 'https://pbs.twimg.com/profile_images/1293077263093764096/qKicRTFe_normal.jpg', 'profile_banner_url': 'https://pbs.twimg.com/profile_banners/358134683/1597128622', 'profile_link_color': '93A644', 'profile_sidebar_border_color': 'EEEEEE', 'profile_sidebar_fill_color': 'FFFFFF', 'profile_text_color': '333333', 'profile_use_background_image': True, 'has_extended_profile': False, 'default_profile': False, 'default_profile_image': False, 'following': False, 'follow_request_sent': False, 'notifications': False, 'translator_type': 'none'}, 'geo': None, 'coordinates': None, 'place': None, 'contributors': None, 'is_quote_status': False, 'retweet_count': 0, 'favorite_count': 0, 'favorited': False, 'retweeted': False, 'possibly_sensitive': False, 'lang': 'en'}, created_at=datetime.datetime(2020, 10, 29, 1, 44, 39), id=1321628985827061760, id_str='1321628985827061760', full_text=\"IPL 2020, MI vs RCB: Social Media Abuzz With Suryakumar Yadav's Match-Winning Knock Two Days After Missing India Selection : Once again proved - Politics , Plot and Favouritism’s win over pure performance and TALENT! \\n\\u2066@BCCI\\u2069 \\u2066@BCCIdomestic\\u2069  https://t.co/jYH23KZ7IO\", truncated=False, display_text_range=[0, 266], entities={'hashtags': [], 'symbols': [], 'user_mentions': [{'screen_name': 'BCCI', 'name': 'BCCI', 'id': 185142711, 'id_str': '185142711', 'indices': [219, 224]}, {'screen_name': 'BCCIdomestic', 'name': 'BCCI Domestic', 'id': 1014634303, 'id_str': '1014634303', 'indices': [227, 240]}], 'urls': [{'url': 'https://t.co/jYH23KZ7IO', 'expanded_url': 'https://sports.ndtv.com/ipl-2020/indian-premier-league-2020-mumbai-indians-vs-royal-challengers-bangalore-social-media-abuzz-with-suryakumar-yadav-after-his-match-winning-knock-for-mi-2317218', 'display_url': 'sports.ndtv.com/ipl-2020/india…', 'indices': [243, 266]}]}, metadata={'iso_language_code': 'en', 'result_type': 'recent'}, source='Twitter for iPhone', source_url='http://twitter.com/download/iphone', in_reply_to_status_id=None, in_reply_to_status_id_str=None, in_reply_to_user_id=None, in_reply_to_user_id_str=None, in_reply_to_screen_name=None, author=User(_api=<tweepy.api.API object at 0x7fb63aa71a58>, _json={'id': 358134683, 'id_str': '358134683', 'name': 'tushar', 'screen_name': 'rtushar_ind', 'location': 'Bhubaneswar', 'description': 'God knew, without Me the World would have been a Mistake! :)', 'url': None, 'entities': {'description': {'urls': []}}, 'protected': False, 'followers_count': 114, 'friends_count': 86, 'listed_count': 13, 'created_at': 'Fri Aug 19 12:47:48 +0000 2011', 'favourites_count': 10151, 'utc_offset': None, 'time_zone': None, 'geo_enabled': True, 'verified': False, 'statuses_count': 19388, 'lang': None, 'contributors_enabled': False, 'is_translator': False, 'is_translation_enabled': False, 'profile_background_color': 'B2DFDA', 'profile_background_image_url': 'http://abs.twimg.com/images/themes/theme13/bg.gif', 'profile_background_image_url_https': 'https://abs.twimg.com/images/themes/theme13/bg.gif', 'profile_background_tile': False, 'profile_image_url': 'http://pbs.twimg.com/profile_images/1293077263093764096/qKicRTFe_normal.jpg', 'profile_image_url_https': 'https://pbs.twimg.com/profile_images/1293077263093764096/qKicRTFe_normal.jpg', 'profile_banner_url': 'https://pbs.twimg.com/profile_banners/358134683/1597128622', 'profile_link_color': '93A644', 'profile_sidebar_border_color': 'EEEEEE', 'profile_sidebar_fill_color': 'FFFFFF', 'profile_text_color': '333333', 'profile_use_background_image': True, 'has_extended_profile': False, 'default_profile': False, 'default_profile_image': False, 'following': False, 'follow_request_sent': False, 'notifications': False, 'translator_type': 'none'}, id=358134683, id_str='358134683', name='tushar', screen_name='rtushar_ind', location='Bhubaneswar', description='God knew, without Me the World would have been a Mistake! :)', url=None, entities={'description': {'urls': []}}, protected=False, followers_count=114, friends_count=86, listed_count=13, created_at=datetime.datetime(2011, 8, 19, 12, 47, 48), favourites_count=10151, utc_offset=None, time_zone=None, geo_enabled=True, verified=False, statuses_count=19388, lang=None, contributors_enabled=False, is_translator=False, is_translation_enabled=False, profile_background_color='B2DFDA', profile_background_image_url='http://abs.twimg.com/images/themes/theme13/bg.gif', profile_background_image_url_https='https://abs.twimg.com/images/themes/theme13/bg.gif', profile_background_tile=False, profile_image_url='http://pbs.twimg.com/profile_images/1293077263093764096/qKicRTFe_normal.jpg', profile_image_url_https='https://pbs.twimg.com/profile_images/1293077263093764096/qKicRTFe_normal.jpg', profile_banner_url='https://pbs.twimg.com/profile_banners/358134683/1597128622', profile_link_color='93A644', profile_sidebar_border_color='EEEEEE', profile_sidebar_fill_color='FFFFFF', profile_text_color='333333', profile_use_background_image=True, has_extended_profile=False, default_profile=False, default_profile_image=False, following=False, follow_request_sent=False, notifications=False, translator_type='none'), user=User(_api=<tweepy.api.API object at 0x7fb63aa71a58>, _json={'id': 358134683, 'id_str': '358134683', 'name': 'tushar', 'screen_name': 'rtushar_ind', 'location': 'Bhubaneswar', 'description': 'God knew, without Me the World would have been a Mistake! :)', 'url': None, 'entities': {'description': {'urls': []}}, 'protected': False, 'followers_count': 114, 'friends_count': 86, 'listed_count': 13, 'created_at': 'Fri Aug 19 12:47:48 +0000 2011', 'favourites_count': 10151, 'utc_offset': None, 'time_zone': None, 'geo_enabled': True, 'verified': False, 'statuses_count': 19388, 'lang': None, 'contributors_enabled': False, 'is_translator': False, 'is_translation_enabled': False, 'profile_background_color': 'B2DFDA', 'profile_background_image_url': 'http://abs.twimg.com/images/themes/theme13/bg.gif', 'profile_background_image_url_https': 'https://abs.twimg.com/images/themes/theme13/bg.gif', 'profile_background_tile': False, 'profile_image_url': 'http://pbs.twimg.com/profile_images/1293077263093764096/qKicRTFe_normal.jpg', 'profile_image_url_https': 'https://pbs.twimg.com/profile_images/1293077263093764096/qKicRTFe_normal.jpg', 'profile_banner_url': 'https://pbs.twimg.com/profile_banners/358134683/1597128622', 'profile_link_color': '93A644', 'profile_sidebar_border_color': 'EEEEEE', 'profile_sidebar_fill_color': 'FFFFFF', 'profile_text_color': '333333', 'profile_use_background_image': True, 'has_extended_profile': False, 'default_profile': False, 'default_profile_image': False, 'following': False, 'follow_request_sent': False, 'notifications': False, 'translator_type': 'none'}, id=358134683, id_str='358134683', name='tushar', screen_name='rtushar_ind', location='Bhubaneswar', description='God knew, without Me the World would have been a Mistake! :)', url=None, entities={'description': {'urls': []}}, protected=False, followers_count=114, friends_count=86, listed_count=13, created_at=datetime.datetime(2011, 8, 19, 12, 47, 48), favourites_count=10151, utc_offset=None, time_zone=None, geo_enabled=True, verified=False, statuses_count=19388, lang=None, contributors_enabled=False, is_translator=False, is_translation_enabled=False, profile_background_color='B2DFDA', profile_background_image_url='http://abs.twimg.com/images/themes/theme13/bg.gif', profile_background_image_url_https='https://abs.twimg.com/images/themes/theme13/bg.gif', profile_background_tile=False, profile_image_url='http://pbs.twimg.com/profile_images/1293077263093764096/qKicRTFe_normal.jpg', profile_image_url_https='https://pbs.twimg.com/profile_images/1293077263093764096/qKicRTFe_normal.jpg', profile_banner_url='https://pbs.twimg.com/profile_banners/358134683/1597128622', profile_link_color='93A644', profile_sidebar_border_color='EEEEEE', profile_sidebar_fill_color='FFFFFF', profile_text_color='333333', profile_use_background_image=True, has_extended_profile=False, default_profile=False, default_profile_image=False, following=False, follow_request_sent=False, notifications=False, translator_type='none'), geo=None, coordinates=None, place=None, contributors=None, is_quote_status=False, retweet_count=0, favorite_count=0, favorited=False, retweeted=False, possibly_sensitive=False, lang='en') \n",
            "\n",
            ".....................................\n",
            "\n",
            "Status(_api=<tweepy.api.API object at 0x7fb63aa71a58>, _json={'created_at': 'Wed Oct 28 19:29:11 +0000 2020', 'id': 1321534497003692033, 'id_str': '1321534497003692033', 'full_text': '@akshay14793 RCB winning IPL this year ✌️', 'truncated': False, 'display_text_range': [13, 41], 'entities': {'hashtags': [], 'symbols': [], 'user_mentions': [{'screen_name': 'akshay14793', 'name': 'AKSHAY', 'id': 3189544838, 'id_str': '3189544838', 'indices': [0, 12]}], 'urls': []}, 'metadata': {'iso_language_code': 'en', 'result_type': 'recent'}, 'source': '<a href=\"http://twitter.com/download/android\" rel=\"nofollow\">Twitter for Android</a>', 'in_reply_to_status_id': 1321531569933180928, 'in_reply_to_status_id_str': '1321531569933180928', 'in_reply_to_user_id': 3189544838, 'in_reply_to_user_id_str': '3189544838', 'in_reply_to_screen_name': 'akshay14793', 'user': {'id': 1177227480244973568, 'id_str': '1177227480244973568', 'name': '💥 DhRUV 💥 ViKrAm 💥 🇱🇷🇬🇧🇦🇺', 'screen_name': 'Bosskeyisback', 'location': \"People's Republic of China\", 'description': '', 'url': None, 'entities': {'description': {'urls': []}}, 'protected': False, 'followers_count': 464, 'friends_count': 3548, 'listed_count': 0, 'created_at': 'Thu Sep 26 14:24:48 +0000 2019', 'favourites_count': 772, 'utc_offset': None, 'time_zone': None, 'geo_enabled': False, 'verified': False, 'statuses_count': 7995, 'lang': None, 'contributors_enabled': False, 'is_translator': False, 'is_translation_enabled': False, 'profile_background_color': 'F5F8FA', 'profile_background_image_url': None, 'profile_background_image_url_https': None, 'profile_background_tile': False, 'profile_image_url': 'http://pbs.twimg.com/profile_images/1312812674137292801/z9SCKasO_normal.jpg', 'profile_image_url_https': 'https://pbs.twimg.com/profile_images/1312812674137292801/z9SCKasO_normal.jpg', 'profile_link_color': '1DA1F2', 'profile_sidebar_border_color': 'C0DEED', 'profile_sidebar_fill_color': 'DDEEF6', 'profile_text_color': '333333', 'profile_use_background_image': True, 'has_extended_profile': True, 'default_profile': True, 'default_profile_image': False, 'following': False, 'follow_request_sent': False, 'notifications': False, 'translator_type': 'none'}, 'geo': None, 'coordinates': None, 'place': None, 'contributors': None, 'is_quote_status': False, 'retweet_count': 0, 'favorite_count': 0, 'favorited': False, 'retweeted': False, 'lang': 'en'}, created_at=datetime.datetime(2020, 10, 28, 19, 29, 11), id=1321534497003692033, id_str='1321534497003692033', full_text='@akshay14793 RCB winning IPL this year ✌️', truncated=False, display_text_range=[13, 41], entities={'hashtags': [], 'symbols': [], 'user_mentions': [{'screen_name': 'akshay14793', 'name': 'AKSHAY', 'id': 3189544838, 'id_str': '3189544838', 'indices': [0, 12]}], 'urls': []}, metadata={'iso_language_code': 'en', 'result_type': 'recent'}, source='Twitter for Android', source_url='http://twitter.com/download/android', in_reply_to_status_id=1321531569933180928, in_reply_to_status_id_str='1321531569933180928', in_reply_to_user_id=3189544838, in_reply_to_user_id_str='3189544838', in_reply_to_screen_name='akshay14793', author=User(_api=<tweepy.api.API object at 0x7fb63aa71a58>, _json={'id': 1177227480244973568, 'id_str': '1177227480244973568', 'name': '💥 DhRUV 💥 ViKrAm 💥 🇱🇷🇬🇧🇦🇺', 'screen_name': 'Bosskeyisback', 'location': \"People's Republic of China\", 'description': '', 'url': None, 'entities': {'description': {'urls': []}}, 'protected': False, 'followers_count': 464, 'friends_count': 3548, 'listed_count': 0, 'created_at': 'Thu Sep 26 14:24:48 +0000 2019', 'favourites_count': 772, 'utc_offset': None, 'time_zone': None, 'geo_enabled': False, 'verified': False, 'statuses_count': 7995, 'lang': None, 'contributors_enabled': False, 'is_translator': False, 'is_translation_enabled': False, 'profile_background_color': 'F5F8FA', 'profile_background_image_url': None, 'profile_background_image_url_https': None, 'profile_background_tile': False, 'profile_image_url': 'http://pbs.twimg.com/profile_images/1312812674137292801/z9SCKasO_normal.jpg', 'profile_image_url_https': 'https://pbs.twimg.com/profile_images/1312812674137292801/z9SCKasO_normal.jpg', 'profile_link_color': '1DA1F2', 'profile_sidebar_border_color': 'C0DEED', 'profile_sidebar_fill_color': 'DDEEF6', 'profile_text_color': '333333', 'profile_use_background_image': True, 'has_extended_profile': True, 'default_profile': True, 'default_profile_image': False, 'following': False, 'follow_request_sent': False, 'notifications': False, 'translator_type': 'none'}, id=1177227480244973568, id_str='1177227480244973568', name='💥 DhRUV 💥 ViKrAm 💥 🇱🇷🇬🇧🇦🇺', screen_name='Bosskeyisback', location=\"People's Republic of China\", description='', url=None, entities={'description': {'urls': []}}, protected=False, followers_count=464, friends_count=3548, listed_count=0, created_at=datetime.datetime(2019, 9, 26, 14, 24, 48), favourites_count=772, utc_offset=None, time_zone=None, geo_enabled=False, verified=False, statuses_count=7995, lang=None, contributors_enabled=False, is_translator=False, is_translation_enabled=False, profile_background_color='F5F8FA', profile_background_image_url=None, profile_background_image_url_https=None, profile_background_tile=False, profile_image_url='http://pbs.twimg.com/profile_images/1312812674137292801/z9SCKasO_normal.jpg', profile_image_url_https='https://pbs.twimg.com/profile_images/1312812674137292801/z9SCKasO_normal.jpg', profile_link_color='1DA1F2', profile_sidebar_border_color='C0DEED', profile_sidebar_fill_color='DDEEF6', profile_text_color='333333', profile_use_background_image=True, has_extended_profile=True, default_profile=True, default_profile_image=False, following=False, follow_request_sent=False, notifications=False, translator_type='none'), user=User(_api=<tweepy.api.API object at 0x7fb63aa71a58>, _json={'id': 1177227480244973568, 'id_str': '1177227480244973568', 'name': '💥 DhRUV 💥 ViKrAm 💥 🇱🇷🇬🇧🇦🇺', 'screen_name': 'Bosskeyisback', 'location': \"People's Republic of China\", 'description': '', 'url': None, 'entities': {'description': {'urls': []}}, 'protected': False, 'followers_count': 464, 'friends_count': 3548, 'listed_count': 0, 'created_at': 'Thu Sep 26 14:24:48 +0000 2019', 'favourites_count': 772, 'utc_offset': None, 'time_zone': None, 'geo_enabled': False, 'verified': False, 'statuses_count': 7995, 'lang': None, 'contributors_enabled': False, 'is_translator': False, 'is_translation_enabled': False, 'profile_background_color': 'F5F8FA', 'profile_background_image_url': None, 'profile_background_image_url_https': None, 'profile_background_tile': False, 'profile_image_url': 'http://pbs.twimg.com/profile_images/1312812674137292801/z9SCKasO_normal.jpg', 'profile_image_url_https': 'https://pbs.twimg.com/profile_images/1312812674137292801/z9SCKasO_normal.jpg', 'profile_link_color': '1DA1F2', 'profile_sidebar_border_color': 'C0DEED', 'profile_sidebar_fill_color': 'DDEEF6', 'profile_text_color': '333333', 'profile_use_background_image': True, 'has_extended_profile': True, 'default_profile': True, 'default_profile_image': False, 'following': False, 'follow_request_sent': False, 'notifications': False, 'translator_type': 'none'}, id=1177227480244973568, id_str='1177227480244973568', name='💥 DhRUV 💥 ViKrAm 💥 🇱🇷🇬🇧🇦🇺', screen_name='Bosskeyisback', location=\"People's Republic of China\", description='', url=None, entities={'description': {'urls': []}}, protected=False, followers_count=464, friends_count=3548, listed_count=0, created_at=datetime.datetime(2019, 9, 26, 14, 24, 48), favourites_count=772, utc_offset=None, time_zone=None, geo_enabled=False, verified=False, statuses_count=7995, lang=None, contributors_enabled=False, is_translator=False, is_translation_enabled=False, profile_background_color='F5F8FA', profile_background_image_url=None, profile_background_image_url_https=None, profile_background_tile=False, profile_image_url='http://pbs.twimg.com/profile_images/1312812674137292801/z9SCKasO_normal.jpg', profile_image_url_https='https://pbs.twimg.com/profile_images/1312812674137292801/z9SCKasO_normal.jpg', profile_link_color='1DA1F2', profile_sidebar_border_color='C0DEED', profile_sidebar_fill_color='DDEEF6', profile_text_color='333333', profile_use_background_image=True, has_extended_profile=True, default_profile=True, default_profile_image=False, following=False, follow_request_sent=False, notifications=False, translator_type='none'), geo=None, coordinates=None, place=None, contributors=None, is_quote_status=False, retweet_count=0, favorite_count=0, favorited=False, retweeted=False, lang='en') \n",
            "\n",
            ".....................................\n",
            "\n",
            "Status(_api=<tweepy.api.API object at 0x7fb63aa71a58>, _json={'created_at': 'Wed Oct 28 19:05:56 +0000 2020', 'id': 1321528645505048576, 'id_str': '1321528645505048576', 'full_text': 'Social media was awash with accolades for #SuryakumarYadav whose unbeaten 79, two days after being omitted from the #India limited-overs squads, helped #MI beat #RCB on Wednesday\\n\\n#IPL2020 #MIvsRCB \\n\\nhttps://t.co/TBxlHlaRj7', 'truncated': False, 'display_text_range': [0, 223], 'entities': {'hashtags': [{'text': 'SuryakumarYadav', 'indices': [42, 58]}, {'text': 'India', 'indices': [116, 122]}, {'text': 'MI', 'indices': [152, 155]}, {'text': 'RCB', 'indices': [161, 165]}, {'text': 'IPL2020', 'indices': [180, 188]}, {'text': 'MIvsRCB', 'indices': [189, 197]}], 'symbols': [], 'user_mentions': [], 'urls': [{'url': 'https://t.co/TBxlHlaRj7', 'expanded_url': 'https://sports.ndtv.com/ipl-2020/indian-premier-league-2020-mumbai-indians-vs-royal-challengers-bangalore-social-media-abuzz-with-suryakumar-yadav-after-his-match-winning-knock-for-mi-2317218', 'display_url': 'sports.ndtv.com/ipl-2020/india…', 'indices': [200, 223]}]}, 'metadata': {'iso_language_code': 'en', 'result_type': 'recent'}, 'source': '<a href=\"https://about.twitter.com/products/tweetdeck\" rel=\"nofollow\">TweetDeck</a>', 'in_reply_to_status_id': None, 'in_reply_to_status_id_str': None, 'in_reply_to_user_id': None, 'in_reply_to_user_id_str': None, 'in_reply_to_screen_name': None, 'user': {'id': 71487564, 'id_str': '71487564', 'name': 'CricketNDTV', 'screen_name': 'CricketNDTV', 'location': 'India', 'description': 'Catch all the latest news from the world of Cricket!', 'url': 'https://t.co/qcJcwocm65', 'entities': {'url': {'urls': [{'url': 'https://t.co/qcJcwocm65', 'expanded_url': 'http://sports.ndtv.com/cricket', 'display_url': 'sports.ndtv.com/cricket', 'indices': [0, 23]}]}, 'description': {'urls': []}}, 'protected': False, 'followers_count': 1787214, 'friends_count': 10, 'listed_count': 848, 'created_at': 'Fri Sep 04 08:21:55 +0000 2009', 'favourites_count': 6, 'utc_offset': None, 'time_zone': None, 'geo_enabled': False, 'verified': True, 'statuses_count': 136217, 'lang': None, 'contributors_enabled': False, 'is_translator': False, 'is_translation_enabled': False, 'profile_background_color': 'C0DEED', 'profile_background_image_url': 'http://abs.twimg.com/images/themes/theme1/bg.png', 'profile_background_image_url_https': 'https://abs.twimg.com/images/themes/theme1/bg.png', 'profile_background_tile': False, 'profile_image_url': 'http://pbs.twimg.com/profile_images/566805159800344577/HSTYu5XU_normal.png', 'profile_image_url_https': 'https://pbs.twimg.com/profile_images/566805159800344577/HSTYu5XU_normal.png', 'profile_link_color': '1DA1F2', 'profile_sidebar_border_color': 'C0DEED', 'profile_sidebar_fill_color': 'DDEEF6', 'profile_text_color': '333333', 'profile_use_background_image': True, 'has_extended_profile': False, 'default_profile': True, 'default_profile_image': False, 'following': False, 'follow_request_sent': False, 'notifications': False, 'translator_type': 'none'}, 'geo': None, 'coordinates': None, 'place': None, 'contributors': None, 'is_quote_status': False, 'retweet_count': 10, 'favorite_count': 138, 'favorited': False, 'retweeted': False, 'possibly_sensitive': False, 'lang': 'en'}, created_at=datetime.datetime(2020, 10, 28, 19, 5, 56), id=1321528645505048576, id_str='1321528645505048576', full_text='Social media was awash with accolades for #SuryakumarYadav whose unbeaten 79, two days after being omitted from the #India limited-overs squads, helped #MI beat #RCB on Wednesday\\n\\n#IPL2020 #MIvsRCB \\n\\nhttps://t.co/TBxlHlaRj7', truncated=False, display_text_range=[0, 223], entities={'hashtags': [{'text': 'SuryakumarYadav', 'indices': [42, 58]}, {'text': 'India', 'indices': [116, 122]}, {'text': 'MI', 'indices': [152, 155]}, {'text': 'RCB', 'indices': [161, 165]}, {'text': 'IPL2020', 'indices': [180, 188]}, {'text': 'MIvsRCB', 'indices': [189, 197]}], 'symbols': [], 'user_mentions': [], 'urls': [{'url': 'https://t.co/TBxlHlaRj7', 'expanded_url': 'https://sports.ndtv.com/ipl-2020/indian-premier-league-2020-mumbai-indians-vs-royal-challengers-bangalore-social-media-abuzz-with-suryakumar-yadav-after-his-match-winning-knock-for-mi-2317218', 'display_url': 'sports.ndtv.com/ipl-2020/india…', 'indices': [200, 223]}]}, metadata={'iso_language_code': 'en', 'result_type': 'recent'}, source='TweetDeck', source_url='https://about.twitter.com/products/tweetdeck', in_reply_to_status_id=None, in_reply_to_status_id_str=None, in_reply_to_user_id=None, in_reply_to_user_id_str=None, in_reply_to_screen_name=None, author=User(_api=<tweepy.api.API object at 0x7fb63aa71a58>, _json={'id': 71487564, 'id_str': '71487564', 'name': 'CricketNDTV', 'screen_name': 'CricketNDTV', 'location': 'India', 'description': 'Catch all the latest news from the world of Cricket!', 'url': 'https://t.co/qcJcwocm65', 'entities': {'url': {'urls': [{'url': 'https://t.co/qcJcwocm65', 'expanded_url': 'http://sports.ndtv.com/cricket', 'display_url': 'sports.ndtv.com/cricket', 'indices': [0, 23]}]}, 'description': {'urls': []}}, 'protected': False, 'followers_count': 1787214, 'friends_count': 10, 'listed_count': 848, 'created_at': 'Fri Sep 04 08:21:55 +0000 2009', 'favourites_count': 6, 'utc_offset': None, 'time_zone': None, 'geo_enabled': False, 'verified': True, 'statuses_count': 136217, 'lang': None, 'contributors_enabled': False, 'is_translator': False, 'is_translation_enabled': False, 'profile_background_color': 'C0DEED', 'profile_background_image_url': 'http://abs.twimg.com/images/themes/theme1/bg.png', 'profile_background_image_url_https': 'https://abs.twimg.com/images/themes/theme1/bg.png', 'profile_background_tile': False, 'profile_image_url': 'http://pbs.twimg.com/profile_images/566805159800344577/HSTYu5XU_normal.png', 'profile_image_url_https': 'https://pbs.twimg.com/profile_images/566805159800344577/HSTYu5XU_normal.png', 'profile_link_color': '1DA1F2', 'profile_sidebar_border_color': 'C0DEED', 'profile_sidebar_fill_color': 'DDEEF6', 'profile_text_color': '333333', 'profile_use_background_image': True, 'has_extended_profile': False, 'default_profile': True, 'default_profile_image': False, 'following': False, 'follow_request_sent': False, 'notifications': False, 'translator_type': 'none'}, id=71487564, id_str='71487564', name='CricketNDTV', screen_name='CricketNDTV', location='India', description='Catch all the latest news from the world of Cricket!', url='https://t.co/qcJcwocm65', entities={'url': {'urls': [{'url': 'https://t.co/qcJcwocm65', 'expanded_url': 'http://sports.ndtv.com/cricket', 'display_url': 'sports.ndtv.com/cricket', 'indices': [0, 23]}]}, 'description': {'urls': []}}, protected=False, followers_count=1787214, friends_count=10, listed_count=848, created_at=datetime.datetime(2009, 9, 4, 8, 21, 55), favourites_count=6, utc_offset=None, time_zone=None, geo_enabled=False, verified=True, statuses_count=136217, lang=None, contributors_enabled=False, is_translator=False, is_translation_enabled=False, profile_background_color='C0DEED', profile_background_image_url='http://abs.twimg.com/images/themes/theme1/bg.png', profile_background_image_url_https='https://abs.twimg.com/images/themes/theme1/bg.png', profile_background_tile=False, profile_image_url='http://pbs.twimg.com/profile_images/566805159800344577/HSTYu5XU_normal.png', profile_image_url_https='https://pbs.twimg.com/profile_images/566805159800344577/HSTYu5XU_normal.png', profile_link_color='1DA1F2', profile_sidebar_border_color='C0DEED', profile_sidebar_fill_color='DDEEF6', profile_text_color='333333', profile_use_background_image=True, has_extended_profile=False, default_profile=True, default_profile_image=False, following=False, follow_request_sent=False, notifications=False, translator_type='none'), user=User(_api=<tweepy.api.API object at 0x7fb63aa71a58>, _json={'id': 71487564, 'id_str': '71487564', 'name': 'CricketNDTV', 'screen_name': 'CricketNDTV', 'location': 'India', 'description': 'Catch all the latest news from the world of Cricket!', 'url': 'https://t.co/qcJcwocm65', 'entities': {'url': {'urls': [{'url': 'https://t.co/qcJcwocm65', 'expanded_url': 'http://sports.ndtv.com/cricket', 'display_url': 'sports.ndtv.com/cricket', 'indices': [0, 23]}]}, 'description': {'urls': []}}, 'protected': False, 'followers_count': 1787214, 'friends_count': 10, 'listed_count': 848, 'created_at': 'Fri Sep 04 08:21:55 +0000 2009', 'favourites_count': 6, 'utc_offset': None, 'time_zone': None, 'geo_enabled': False, 'verified': True, 'statuses_count': 136217, 'lang': None, 'contributors_enabled': False, 'is_translator': False, 'is_translation_enabled': False, 'profile_background_color': 'C0DEED', 'profile_background_image_url': 'http://abs.twimg.com/images/themes/theme1/bg.png', 'profile_background_image_url_https': 'https://abs.twimg.com/images/themes/theme1/bg.png', 'profile_background_tile': False, 'profile_image_url': 'http://pbs.twimg.com/profile_images/566805159800344577/HSTYu5XU_normal.png', 'profile_image_url_https': 'https://pbs.twimg.com/profile_images/566805159800344577/HSTYu5XU_normal.png', 'profile_link_color': '1DA1F2', 'profile_sidebar_border_color': 'C0DEED', 'profile_sidebar_fill_color': 'DDEEF6', 'profile_text_color': '333333', 'profile_use_background_image': True, 'has_extended_profile': False, 'default_profile': True, 'default_profile_image': False, 'following': False, 'follow_request_sent': False, 'notifications': False, 'translator_type': 'none'}, id=71487564, id_str='71487564', name='CricketNDTV', screen_name='CricketNDTV', location='India', description='Catch all the latest news from the world of Cricket!', url='https://t.co/qcJcwocm65', entities={'url': {'urls': [{'url': 'https://t.co/qcJcwocm65', 'expanded_url': 'http://sports.ndtv.com/cricket', 'display_url': 'sports.ndtv.com/cricket', 'indices': [0, 23]}]}, 'description': {'urls': []}}, protected=False, followers_count=1787214, friends_count=10, listed_count=848, created_at=datetime.datetime(2009, 9, 4, 8, 21, 55), favourites_count=6, utc_offset=None, time_zone=None, geo_enabled=False, verified=True, statuses_count=136217, lang=None, contributors_enabled=False, is_translator=False, is_translation_enabled=False, profile_background_color='C0DEED', profile_background_image_url='http://abs.twimg.com/images/themes/theme1/bg.png', profile_background_image_url_https='https://abs.twimg.com/images/themes/theme1/bg.png', profile_background_tile=False, profile_image_url='http://pbs.twimg.com/profile_images/566805159800344577/HSTYu5XU_normal.png', profile_image_url_https='https://pbs.twimg.com/profile_images/566805159800344577/HSTYu5XU_normal.png', profile_link_color='1DA1F2', profile_sidebar_border_color='C0DEED', profile_sidebar_fill_color='DDEEF6', profile_text_color='333333', profile_use_background_image=True, has_extended_profile=False, default_profile=True, default_profile_image=False, following=False, follow_request_sent=False, notifications=False, translator_type='none'), geo=None, coordinates=None, place=None, contributors=None, is_quote_status=False, retweet_count=10, favorite_count=138, favorited=False, retweeted=False, possibly_sensitive=False, lang='en') \n",
            "\n",
            ".....................................\n",
            "\n",
            "Status(_api=<tweepy.api.API object at 0x7fb63aa71a58>, _json={'created_at': 'Wed Oct 28 18:26:23 +0000 2020', 'id': 1321518691482279936, 'id_str': '1321518691482279936', 'full_text': 'IPL 2020: Fans hail Suryakumar Yadav after match-winning knock against Virat Kohli’s\\xa0RCB https://t.co/5UAHO1moeG', 'truncated': False, 'display_text_range': [0, 112], 'entities': {'hashtags': [], 'symbols': [], 'user_mentions': [], 'urls': [{'url': 'https://t.co/5UAHO1moeG', 'expanded_url': 'https://newschant.com/sports/ipl-2020-fans-hail-suryakumar-yadav-after-match-winning-knock-against-virat-kohlis-rcb/', 'display_url': 'newschant.com/sports/ipl-202…', 'indices': [89, 112]}]}, 'metadata': {'iso_language_code': 'en', 'result_type': 'recent'}, 'source': '<a href=\"http://publicize.wp.com/\" rel=\"nofollow\">WordPress.com</a>', 'in_reply_to_status_id': None, 'in_reply_to_status_id_str': None, 'in_reply_to_user_id': None, 'in_reply_to_user_id_str': None, 'in_reply_to_screen_name': None, 'user': {'id': 826353132716240897, 'id_str': '826353132716240897', 'name': 'News Chant', 'screen_name': 'NewsChantOnline', 'location': '', 'description': 'Latest News on technology, health, lifestyle, entertainment, business & more. Worldwide breaking news in English.', 'url': 'https://t.co/klOxFZ8ggW', 'entities': {'url': {'urls': [{'url': 'https://t.co/klOxFZ8ggW', 'expanded_url': 'https://newschant.com/', 'display_url': 'newschant.com', 'indices': [0, 23]}]}, 'description': {'urls': []}}, 'protected': False, 'followers_count': 142, 'friends_count': 65, 'listed_count': 0, 'created_at': 'Tue Jan 31 08:55:14 +0000 2017', 'favourites_count': 396, 'utc_offset': None, 'time_zone': None, 'geo_enabled': False, 'verified': False, 'statuses_count': 19998, 'lang': None, 'contributors_enabled': False, 'is_translator': False, 'is_translation_enabled': False, 'profile_background_color': 'F5F8FA', 'profile_background_image_url': None, 'profile_background_image_url_https': None, 'profile_background_tile': False, 'profile_image_url': 'http://pbs.twimg.com/profile_images/1246079493199912960/Q3Dra0qZ_normal.jpg', 'profile_image_url_https': 'https://pbs.twimg.com/profile_images/1246079493199912960/Q3Dra0qZ_normal.jpg', 'profile_banner_url': 'https://pbs.twimg.com/profile_banners/826353132716240897/1489315297', 'profile_link_color': '1DA1F2', 'profile_sidebar_border_color': 'C0DEED', 'profile_sidebar_fill_color': 'DDEEF6', 'profile_text_color': '333333', 'profile_use_background_image': True, 'has_extended_profile': False, 'default_profile': True, 'default_profile_image': False, 'following': False, 'follow_request_sent': False, 'notifications': False, 'translator_type': 'none'}, 'geo': None, 'coordinates': None, 'place': None, 'contributors': None, 'is_quote_status': False, 'retweet_count': 1, 'favorite_count': 2, 'favorited': False, 'retweeted': False, 'possibly_sensitive': False, 'lang': 'en'}, created_at=datetime.datetime(2020, 10, 28, 18, 26, 23), id=1321518691482279936, id_str='1321518691482279936', full_text='IPL 2020: Fans hail Suryakumar Yadav after match-winning knock against Virat Kohli’s\\xa0RCB https://t.co/5UAHO1moeG', truncated=False, display_text_range=[0, 112], entities={'hashtags': [], 'symbols': [], 'user_mentions': [], 'urls': [{'url': 'https://t.co/5UAHO1moeG', 'expanded_url': 'https://newschant.com/sports/ipl-2020-fans-hail-suryakumar-yadav-after-match-winning-knock-against-virat-kohlis-rcb/', 'display_url': 'newschant.com/sports/ipl-202…', 'indices': [89, 112]}]}, metadata={'iso_language_code': 'en', 'result_type': 'recent'}, source='WordPress.com', source_url='http://publicize.wp.com/', in_reply_to_status_id=None, in_reply_to_status_id_str=None, in_reply_to_user_id=None, in_reply_to_user_id_str=None, in_reply_to_screen_name=None, author=User(_api=<tweepy.api.API object at 0x7fb63aa71a58>, _json={'id': 826353132716240897, 'id_str': '826353132716240897', 'name': 'News Chant', 'screen_name': 'NewsChantOnline', 'location': '', 'description': 'Latest News on technology, health, lifestyle, entertainment, business & more. Worldwide breaking news in English.', 'url': 'https://t.co/klOxFZ8ggW', 'entities': {'url': {'urls': [{'url': 'https://t.co/klOxFZ8ggW', 'expanded_url': 'https://newschant.com/', 'display_url': 'newschant.com', 'indices': [0, 23]}]}, 'description': {'urls': []}}, 'protected': False, 'followers_count': 142, 'friends_count': 65, 'listed_count': 0, 'created_at': 'Tue Jan 31 08:55:14 +0000 2017', 'favourites_count': 396, 'utc_offset': None, 'time_zone': None, 'geo_enabled': False, 'verified': False, 'statuses_count': 19998, 'lang': None, 'contributors_enabled': False, 'is_translator': False, 'is_translation_enabled': False, 'profile_background_color': 'F5F8FA', 'profile_background_image_url': None, 'profile_background_image_url_https': None, 'profile_background_tile': False, 'profile_image_url': 'http://pbs.twimg.com/profile_images/1246079493199912960/Q3Dra0qZ_normal.jpg', 'profile_image_url_https': 'https://pbs.twimg.com/profile_images/1246079493199912960/Q3Dra0qZ_normal.jpg', 'profile_banner_url': 'https://pbs.twimg.com/profile_banners/826353132716240897/1489315297', 'profile_link_color': '1DA1F2', 'profile_sidebar_border_color': 'C0DEED', 'profile_sidebar_fill_color': 'DDEEF6', 'profile_text_color': '333333', 'profile_use_background_image': True, 'has_extended_profile': False, 'default_profile': True, 'default_profile_image': False, 'following': False, 'follow_request_sent': False, 'notifications': False, 'translator_type': 'none'}, id=826353132716240897, id_str='826353132716240897', name='News Chant', screen_name='NewsChantOnline', location='', description='Latest News on technology, health, lifestyle, entertainment, business & more. Worldwide breaking news in English.', url='https://t.co/klOxFZ8ggW', entities={'url': {'urls': [{'url': 'https://t.co/klOxFZ8ggW', 'expanded_url': 'https://newschant.com/', 'display_url': 'newschant.com', 'indices': [0, 23]}]}, 'description': {'urls': []}}, protected=False, followers_count=142, friends_count=65, listed_count=0, created_at=datetime.datetime(2017, 1, 31, 8, 55, 14), favourites_count=396, utc_offset=None, time_zone=None, geo_enabled=False, verified=False, statuses_count=19998, lang=None, contributors_enabled=False, is_translator=False, is_translation_enabled=False, profile_background_color='F5F8FA', profile_background_image_url=None, profile_background_image_url_https=None, profile_background_tile=False, profile_image_url='http://pbs.twimg.com/profile_images/1246079493199912960/Q3Dra0qZ_normal.jpg', profile_image_url_https='https://pbs.twimg.com/profile_images/1246079493199912960/Q3Dra0qZ_normal.jpg', profile_banner_url='https://pbs.twimg.com/profile_banners/826353132716240897/1489315297', profile_link_color='1DA1F2', profile_sidebar_border_color='C0DEED', profile_sidebar_fill_color='DDEEF6', profile_text_color='333333', profile_use_background_image=True, has_extended_profile=False, default_profile=True, default_profile_image=False, following=False, follow_request_sent=False, notifications=False, translator_type='none'), user=User(_api=<tweepy.api.API object at 0x7fb63aa71a58>, _json={'id': 826353132716240897, 'id_str': '826353132716240897', 'name': 'News Chant', 'screen_name': 'NewsChantOnline', 'location': '', 'description': 'Latest News on technology, health, lifestyle, entertainment, business & more. Worldwide breaking news in English.', 'url': 'https://t.co/klOxFZ8ggW', 'entities': {'url': {'urls': [{'url': 'https://t.co/klOxFZ8ggW', 'expanded_url': 'https://newschant.com/', 'display_url': 'newschant.com', 'indices': [0, 23]}]}, 'description': {'urls': []}}, 'protected': False, 'followers_count': 142, 'friends_count': 65, 'listed_count': 0, 'created_at': 'Tue Jan 31 08:55:14 +0000 2017', 'favourites_count': 396, 'utc_offset': None, 'time_zone': None, 'geo_enabled': False, 'verified': False, 'statuses_count': 19998, 'lang': None, 'contributors_enabled': False, 'is_translator': False, 'is_translation_enabled': False, 'profile_background_color': 'F5F8FA', 'profile_background_image_url': None, 'profile_background_image_url_https': None, 'profile_background_tile': False, 'profile_image_url': 'http://pbs.twimg.com/profile_images/1246079493199912960/Q3Dra0qZ_normal.jpg', 'profile_image_url_https': 'https://pbs.twimg.com/profile_images/1246079493199912960/Q3Dra0qZ_normal.jpg', 'profile_banner_url': 'https://pbs.twimg.com/profile_banners/826353132716240897/1489315297', 'profile_link_color': '1DA1F2', 'profile_sidebar_border_color': 'C0DEED', 'profile_sidebar_fill_color': 'DDEEF6', 'profile_text_color': '333333', 'profile_use_background_image': True, 'has_extended_profile': False, 'default_profile': True, 'default_profile_image': False, 'following': False, 'follow_request_sent': False, 'notifications': False, 'translator_type': 'none'}, id=826353132716240897, id_str='826353132716240897', name='News Chant', screen_name='NewsChantOnline', location='', description='Latest News on technology, health, lifestyle, entertainment, business & more. Worldwide breaking news in English.', url='https://t.co/klOxFZ8ggW', entities={'url': {'urls': [{'url': 'https://t.co/klOxFZ8ggW', 'expanded_url': 'https://newschant.com/', 'display_url': 'newschant.com', 'indices': [0, 23]}]}, 'description': {'urls': []}}, protected=False, followers_count=142, friends_count=65, listed_count=0, created_at=datetime.datetime(2017, 1, 31, 8, 55, 14), favourites_count=396, utc_offset=None, time_zone=None, geo_enabled=False, verified=False, statuses_count=19998, lang=None, contributors_enabled=False, is_translator=False, is_translation_enabled=False, profile_background_color='F5F8FA', profile_background_image_url=None, profile_background_image_url_https=None, profile_background_tile=False, profile_image_url='http://pbs.twimg.com/profile_images/1246079493199912960/Q3Dra0qZ_normal.jpg', profile_image_url_https='https://pbs.twimg.com/profile_images/1246079493199912960/Q3Dra0qZ_normal.jpg', profile_banner_url='https://pbs.twimg.com/profile_banners/826353132716240897/1489315297', profile_link_color='1DA1F2', profile_sidebar_border_color='C0DEED', profile_sidebar_fill_color='DDEEF6', profile_text_color='333333', profile_use_background_image=True, has_extended_profile=False, default_profile=True, default_profile_image=False, following=False, follow_request_sent=False, notifications=False, translator_type='none'), geo=None, coordinates=None, place=None, contributors=None, is_quote_status=False, retweet_count=1, favorite_count=2, favorited=False, retweeted=False, possibly_sensitive=False, lang='en') \n",
            "\n",
            ".....................................\n",
            "\n"
          ],
          "name": "stdout"
        }
      ]
    },
    {
      "cell_type": "code",
      "metadata": {
        "id": "htbARLTDd959",
        "outputId": "60afa2ed-9410-4773-d724-235f4e5747a6",
        "colab": {
          "base_uri": "https://localhost:8080/"
        }
      },
      "source": [
        "df = pd.DataFrame(columns = ['Tweets' , 'User' , 'User_statuses_count' , \n",
        "                            'user_followers' , 'User_location' , 'User_verified' ,\n",
        "                            'fav_count' , 'rt_count' , 'tweet_date'] )\n",
        "print(df)\n",
        "# print(df.shape)"
      ],
      "execution_count": 6,
      "outputs": [
        {
          "output_type": "stream",
          "text": [
            "Empty DataFrame\n",
            "Columns: [Tweets, User, User_statuses_count, user_followers, User_location, User_verified, fav_count, rt_count, tweet_date]\n",
            "Index: []\n"
          ],
          "name": "stdout"
        }
      ]
    },
    {
      "cell_type": "code",
      "metadata": {
        "id": "ASfre_KxeLoQ"
      },
      "source": [
        "def stream(data, file_name):\n",
        "    i = 0\n",
        "    for tweet in tweepy.Cursor(api.search, q=data, count=100, lang='en').items():\n",
        "        print(i, end='\\r')\n",
        "        df.loc[i, 'Tweets'] = tweet.text\n",
        "        df.loc[i, 'User'] = tweet.user.name\n",
        "        df.loc[i, 'User_statuses_count'] = tweet.user.statuses_count\n",
        "        df.loc[i, 'user_followers'] = tweet.user.followers_count\n",
        "        df.loc[i, 'User_location'] = tweet.user.location\n",
        "        df.loc[i, 'User_verified'] = tweet.user.verified\n",
        "        df.loc[i, 'fav_count'] = tweet.favorite_count\n",
        "        df.loc[i, 'rt_count'] = tweet.retweet_count\n",
        "        df.loc[i, 'tweet_date'] = tweet.created_at\n",
        "        df.to_excel('{}.xlsx'.format(file_name))\n",
        "        i = i+1\n",
        "        if i == 1000:\n",
        "            break\n",
        "        else:\n",
        "            pass"
      ],
      "execution_count": 7,
      "outputs": []
    },
    {
      "cell_type": "code",
      "metadata": {
        "id": "m4ySmJkXeOCi"
      },
      "source": [
        "stream(data=[\"RCB winning IPL\"] , file_name='my_tweets')"
      ],
      "execution_count": null,
      "outputs": []
    },
    {
      "cell_type": "code",
      "metadata": {
        "id": "cTkFBd2YeQGD",
        "outputId": "d43cc912-0927-46f1-ac1c-7b733d61740c",
        "colab": {
          "base_uri": "https://localhost:8080/",
          "height": 195
        }
      },
      "source": [
        "df.head()"
      ],
      "execution_count": 9,
      "outputs": [
        {
          "output_type": "execute_result",
          "data": {
            "text/html": [
              "<div>\n",
              "<style scoped>\n",
              "    .dataframe tbody tr th:only-of-type {\n",
              "        vertical-align: middle;\n",
              "    }\n",
              "\n",
              "    .dataframe tbody tr th {\n",
              "        vertical-align: top;\n",
              "    }\n",
              "\n",
              "    .dataframe thead th {\n",
              "        text-align: right;\n",
              "    }\n",
              "</style>\n",
              "<table border=\"1\" class=\"dataframe\">\n",
              "  <thead>\n",
              "    <tr style=\"text-align: right;\">\n",
              "      <th></th>\n",
              "      <th>Tweets</th>\n",
              "      <th>User</th>\n",
              "      <th>User_statuses_count</th>\n",
              "      <th>user_followers</th>\n",
              "      <th>User_location</th>\n",
              "      <th>User_verified</th>\n",
              "      <th>fav_count</th>\n",
              "      <th>rt_count</th>\n",
              "      <th>tweet_date</th>\n",
              "    </tr>\n",
              "  </thead>\n",
              "  <tbody>\n",
              "    <tr>\n",
              "      <th>0</th>\n",
              "      <td>@SimplyWazza Bhai most of these rcb fans are f...</td>\n",
              "      <td>Desi Gooner</td>\n",
              "      <td>171338</td>\n",
              "      <td>6756</td>\n",
              "      <td>India</td>\n",
              "      <td>False</td>\n",
              "      <td>0</td>\n",
              "      <td>0</td>\n",
              "      <td>2020-10-29 03:35:51</td>\n",
              "    </tr>\n",
              "    <tr>\n",
              "      <th>1</th>\n",
              "      <td>RT @IndiaToday: India head coach #RaviShastri ...</td>\n",
              "      <td>Imran</td>\n",
              "      <td>32698</td>\n",
              "      <td>512</td>\n",
              "      <td>India O India Kya Kehna Tera..</td>\n",
              "      <td>False</td>\n",
              "      <td>0</td>\n",
              "      <td>2</td>\n",
              "      <td>2020-10-29 03:16:42</td>\n",
              "    </tr>\n",
              "    <tr>\n",
              "      <th>2</th>\n",
              "      <td>@imVkohli @RCBTweets We are still rcb fans eve...</td>\n",
              "      <td>PS Star 09</td>\n",
              "      <td>3</td>\n",
              "      <td>0</td>\n",
              "      <td></td>\n",
              "      <td>False</td>\n",
              "      <td>0</td>\n",
              "      <td>0</td>\n",
              "      <td>2020-10-29 03:06:55</td>\n",
              "    </tr>\n",
              "    <tr>\n",
              "      <th>3</th>\n",
              "      <td>RT @IndiaToday: India head coach #RaviShastri ...</td>\n",
              "      <td>IndiaTodayFLASH</td>\n",
              "      <td>390584</td>\n",
              "      <td>1121307</td>\n",
              "      <td></td>\n",
              "      <td>True</td>\n",
              "      <td>0</td>\n",
              "      <td>2</td>\n",
              "      <td>2020-10-29 03:06:02</td>\n",
              "    </tr>\n",
              "    <tr>\n",
              "      <th>4</th>\n",
              "      <td>India head coach #RaviShastri has urged #Surya...</td>\n",
              "      <td>IndiaToday</td>\n",
              "      <td>791788</td>\n",
              "      <td>5397976</td>\n",
              "      <td>India</td>\n",
              "      <td>True</td>\n",
              "      <td>27</td>\n",
              "      <td>2</td>\n",
              "      <td>2020-10-29 03:05:39</td>\n",
              "    </tr>\n",
              "  </tbody>\n",
              "</table>\n",
              "</div>"
            ],
            "text/plain": [
              "                                              Tweets  ...           tweet_date\n",
              "0  @SimplyWazza Bhai most of these rcb fans are f...  ...  2020-10-29 03:35:51\n",
              "1  RT @IndiaToday: India head coach #RaviShastri ...  ...  2020-10-29 03:16:42\n",
              "2  @imVkohli @RCBTweets We are still rcb fans eve...  ...  2020-10-29 03:06:55\n",
              "3  RT @IndiaToday: India head coach #RaviShastri ...  ...  2020-10-29 03:06:02\n",
              "4  India head coach #RaviShastri has urged #Surya...  ...  2020-10-29 03:05:39\n",
              "\n",
              "[5 rows x 9 columns]"
            ]
          },
          "metadata": {
            "tags": []
          },
          "execution_count": 9
        }
      ]
    },
    {
      "cell_type": "code",
      "metadata": {
        "id": "2bUr7U03e1FT"
      },
      "source": [
        "from textblob import TextBlob"
      ],
      "execution_count": 10,
      "outputs": []
    },
    {
      "cell_type": "code",
      "metadata": {
        "id": "2gAfRXwYe3l2"
      },
      "source": [
        "import re\n",
        "def clean_tweet(tweet):\n",
        "    return ' '.join(re.sub('(@[A-Za-z0-9]+)|([^0-9A-Za-z \\t])|(\\w+:\\/\\/\\S+)', ' ', tweet).split())"
      ],
      "execution_count": 11,
      "outputs": []
    },
    {
      "cell_type": "code",
      "metadata": {
        "id": "aHA257a-fEL5"
      },
      "source": [
        "def analyze_sentiment(tweet):\n",
        "    analysis = TextBlob(tweet)\n",
        "    if analysis.sentiment.polarity > 0:\n",
        "        return 'Positive'\n",
        "    elif analysis.sentiment.polarity == 0:\n",
        "        return 'Neutral'\n",
        "    else:\n",
        "        return 'Negative'"
      ],
      "execution_count": 12,
      "outputs": []
    },
    {
      "cell_type": "code",
      "metadata": {
        "id": "QpBjZOP_fGdK"
      },
      "source": [
        "df['clean_tweet'] = df['Tweets'].apply(lambda x : clean_tweet(x))"
      ],
      "execution_count": 13,
      "outputs": []
    },
    {
      "cell_type": "code",
      "metadata": {
        "id": "QfFgDBHWfIfd",
        "outputId": "b61d4875-2fd7-443f-e132-f9a63a0bf95d",
        "colab": {
          "base_uri": "https://localhost:8080/",
          "height": 330
        }
      },
      "source": [
        "df.head()"
      ],
      "execution_count": 14,
      "outputs": [
        {
          "output_type": "execute_result",
          "data": {
            "text/html": [
              "<div>\n",
              "<style scoped>\n",
              "    .dataframe tbody tr th:only-of-type {\n",
              "        vertical-align: middle;\n",
              "    }\n",
              "\n",
              "    .dataframe tbody tr th {\n",
              "        vertical-align: top;\n",
              "    }\n",
              "\n",
              "    .dataframe thead th {\n",
              "        text-align: right;\n",
              "    }\n",
              "</style>\n",
              "<table border=\"1\" class=\"dataframe\">\n",
              "  <thead>\n",
              "    <tr style=\"text-align: right;\">\n",
              "      <th></th>\n",
              "      <th>Tweets</th>\n",
              "      <th>User</th>\n",
              "      <th>User_statuses_count</th>\n",
              "      <th>user_followers</th>\n",
              "      <th>User_location</th>\n",
              "      <th>User_verified</th>\n",
              "      <th>fav_count</th>\n",
              "      <th>rt_count</th>\n",
              "      <th>tweet_date</th>\n",
              "      <th>clean_tweet</th>\n",
              "    </tr>\n",
              "  </thead>\n",
              "  <tbody>\n",
              "    <tr>\n",
              "      <th>0</th>\n",
              "      <td>@SimplyWazza Bhai most of these rcb fans are f...</td>\n",
              "      <td>Desi Gooner</td>\n",
              "      <td>171338</td>\n",
              "      <td>6756</td>\n",
              "      <td>India</td>\n",
              "      <td>False</td>\n",
              "      <td>0</td>\n",
              "      <td>0</td>\n",
              "      <td>2020-10-29 03:35:51</td>\n",
              "      <td>Bhai most of these rcb fans are frustrated tha...</td>\n",
              "    </tr>\n",
              "    <tr>\n",
              "      <th>1</th>\n",
              "      <td>RT @IndiaToday: India head coach #RaviShastri ...</td>\n",
              "      <td>Imran</td>\n",
              "      <td>32698</td>\n",
              "      <td>512</td>\n",
              "      <td>India O India Kya Kehna Tera..</td>\n",
              "      <td>False</td>\n",
              "      <td>0</td>\n",
              "      <td>2</td>\n",
              "      <td>2020-10-29 03:16:42</td>\n",
              "      <td>RT India head coach RaviShastri has urged Sury...</td>\n",
              "    </tr>\n",
              "    <tr>\n",
              "      <th>2</th>\n",
              "      <td>@imVkohli @RCBTweets We are still rcb fans eve...</td>\n",
              "      <td>PS Star 09</td>\n",
              "      <td>3</td>\n",
              "      <td>0</td>\n",
              "      <td></td>\n",
              "      <td>False</td>\n",
              "      <td>0</td>\n",
              "      <td>0</td>\n",
              "      <td>2020-10-29 03:06:55</td>\n",
              "      <td>We are still rcb fans even rcb looses RCB Play...</td>\n",
              "    </tr>\n",
              "    <tr>\n",
              "      <th>3</th>\n",
              "      <td>RT @IndiaToday: India head coach #RaviShastri ...</td>\n",
              "      <td>IndiaTodayFLASH</td>\n",
              "      <td>390584</td>\n",
              "      <td>1121307</td>\n",
              "      <td></td>\n",
              "      <td>True</td>\n",
              "      <td>0</td>\n",
              "      <td>2</td>\n",
              "      <td>2020-10-29 03:06:02</td>\n",
              "      <td>RT India head coach RaviShastri has urged Sury...</td>\n",
              "    </tr>\n",
              "    <tr>\n",
              "      <th>4</th>\n",
              "      <td>India head coach #RaviShastri has urged #Surya...</td>\n",
              "      <td>IndiaToday</td>\n",
              "      <td>791788</td>\n",
              "      <td>5397976</td>\n",
              "      <td>India</td>\n",
              "      <td>True</td>\n",
              "      <td>27</td>\n",
              "      <td>2</td>\n",
              "      <td>2020-10-29 03:05:39</td>\n",
              "      <td>India head coach RaviShastri has urged Suryaku...</td>\n",
              "    </tr>\n",
              "  </tbody>\n",
              "</table>\n",
              "</div>"
            ],
            "text/plain": [
              "                                              Tweets  ...                                        clean_tweet\n",
              "0  @SimplyWazza Bhai most of these rcb fans are f...  ...  Bhai most of these rcb fans are frustrated tha...\n",
              "1  RT @IndiaToday: India head coach #RaviShastri ...  ...  RT India head coach RaviShastri has urged Sury...\n",
              "2  @imVkohli @RCBTweets We are still rcb fans eve...  ...  We are still rcb fans even rcb looses RCB Play...\n",
              "3  RT @IndiaToday: India head coach #RaviShastri ...  ...  RT India head coach RaviShastri has urged Sury...\n",
              "4  India head coach #RaviShastri has urged #Surya...  ...  India head coach RaviShastri has urged Suryaku...\n",
              "\n",
              "[5 rows x 10 columns]"
            ]
          },
          "metadata": {
            "tags": []
          },
          "execution_count": 14
        }
      ]
    },
    {
      "cell_type": "code",
      "metadata": {
        "id": "UhT7LGUXfKgE",
        "outputId": "8de0c593-8e87-46e6-bcd0-72aff359cbe7",
        "colab": {
          "base_uri": "https://localhost:8080/",
          "height": 363
        }
      },
      "source": [
        "df['Sentiment'] = df['clean_tweet'].apply(lambda x : analyze_sentiment(x) )\n",
        "df.head()"
      ],
      "execution_count": 15,
      "outputs": [
        {
          "output_type": "execute_result",
          "data": {
            "text/html": [
              "<div>\n",
              "<style scoped>\n",
              "    .dataframe tbody tr th:only-of-type {\n",
              "        vertical-align: middle;\n",
              "    }\n",
              "\n",
              "    .dataframe tbody tr th {\n",
              "        vertical-align: top;\n",
              "    }\n",
              "\n",
              "    .dataframe thead th {\n",
              "        text-align: right;\n",
              "    }\n",
              "</style>\n",
              "<table border=\"1\" class=\"dataframe\">\n",
              "  <thead>\n",
              "    <tr style=\"text-align: right;\">\n",
              "      <th></th>\n",
              "      <th>Tweets</th>\n",
              "      <th>User</th>\n",
              "      <th>User_statuses_count</th>\n",
              "      <th>user_followers</th>\n",
              "      <th>User_location</th>\n",
              "      <th>User_verified</th>\n",
              "      <th>fav_count</th>\n",
              "      <th>rt_count</th>\n",
              "      <th>tweet_date</th>\n",
              "      <th>clean_tweet</th>\n",
              "      <th>Sentiment</th>\n",
              "    </tr>\n",
              "  </thead>\n",
              "  <tbody>\n",
              "    <tr>\n",
              "      <th>0</th>\n",
              "      <td>@SimplyWazza Bhai most of these rcb fans are f...</td>\n",
              "      <td>Desi Gooner</td>\n",
              "      <td>171338</td>\n",
              "      <td>6756</td>\n",
              "      <td>India</td>\n",
              "      <td>False</td>\n",
              "      <td>0</td>\n",
              "      <td>0</td>\n",
              "      <td>2020-10-29 03:35:51</td>\n",
              "      <td>Bhai most of these rcb fans are frustrated tha...</td>\n",
              "      <td>Positive</td>\n",
              "    </tr>\n",
              "    <tr>\n",
              "      <th>1</th>\n",
              "      <td>RT @IndiaToday: India head coach #RaviShastri ...</td>\n",
              "      <td>Imran</td>\n",
              "      <td>32698</td>\n",
              "      <td>512</td>\n",
              "      <td>India O India Kya Kehna Tera..</td>\n",
              "      <td>False</td>\n",
              "      <td>0</td>\n",
              "      <td>2</td>\n",
              "      <td>2020-10-29 03:16:42</td>\n",
              "      <td>RT India head coach RaviShastri has urged Sury...</td>\n",
              "      <td>Positive</td>\n",
              "    </tr>\n",
              "    <tr>\n",
              "      <th>2</th>\n",
              "      <td>@imVkohli @RCBTweets We are still rcb fans eve...</td>\n",
              "      <td>PS Star 09</td>\n",
              "      <td>3</td>\n",
              "      <td>0</td>\n",
              "      <td></td>\n",
              "      <td>False</td>\n",
              "      <td>0</td>\n",
              "      <td>0</td>\n",
              "      <td>2020-10-29 03:06:55</td>\n",
              "      <td>We are still rcb fans even rcb looses RCB Play...</td>\n",
              "      <td>Positive</td>\n",
              "    </tr>\n",
              "    <tr>\n",
              "      <th>3</th>\n",
              "      <td>RT @IndiaToday: India head coach #RaviShastri ...</td>\n",
              "      <td>IndiaTodayFLASH</td>\n",
              "      <td>390584</td>\n",
              "      <td>1121307</td>\n",
              "      <td></td>\n",
              "      <td>True</td>\n",
              "      <td>0</td>\n",
              "      <td>2</td>\n",
              "      <td>2020-10-29 03:06:02</td>\n",
              "      <td>RT India head coach RaviShastri has urged Sury...</td>\n",
              "      <td>Positive</td>\n",
              "    </tr>\n",
              "    <tr>\n",
              "      <th>4</th>\n",
              "      <td>India head coach #RaviShastri has urged #Surya...</td>\n",
              "      <td>IndiaToday</td>\n",
              "      <td>791788</td>\n",
              "      <td>5397976</td>\n",
              "      <td>India</td>\n",
              "      <td>True</td>\n",
              "      <td>27</td>\n",
              "      <td>2</td>\n",
              "      <td>2020-10-29 03:05:39</td>\n",
              "      <td>India head coach RaviShastri has urged Suryaku...</td>\n",
              "      <td>Positive</td>\n",
              "    </tr>\n",
              "  </tbody>\n",
              "</table>\n",
              "</div>"
            ],
            "text/plain": [
              "                                              Tweets  ... Sentiment\n",
              "0  @SimplyWazza Bhai most of these rcb fans are f...  ...  Positive\n",
              "1  RT @IndiaToday: India head coach #RaviShastri ...  ...  Positive\n",
              "2  @imVkohli @RCBTweets We are still rcb fans eve...  ...  Positive\n",
              "3  RT @IndiaToday: India head coach #RaviShastri ...  ...  Positive\n",
              "4  India head coach #RaviShastri has urged #Surya...  ...  Positive\n",
              "\n",
              "[5 rows x 11 columns]"
            ]
          },
          "metadata": {
            "tags": []
          },
          "execution_count": 15
        }
      ]
    },
    {
      "cell_type": "code",
      "metadata": {
        "id": "hplreBJUfMtE",
        "outputId": "36626379-0e1a-47fb-cc08-c1ae9ce47d50",
        "colab": {
          "base_uri": "https://localhost:8080/"
        }
      },
      "source": [
        "n = 1\n",
        "print(\"Original tweet:\\n\",df['Tweets'][n])\n",
        "print()\n",
        "print(\"Clean tweet:\\n\",df['clean_tweet'][n])\n",
        "print()\n",
        "print(\"Sentiment of the tweet:\\n\",df['Sentiment'][n])"
      ],
      "execution_count": 16,
      "outputs": [
        {
          "output_type": "stream",
          "text": [
            "Original tweet:\n",
            " RT @IndiaToday: India head coach #RaviShastri has urged #SuryakumarYadav to remain strong and patient after the Mumbai Indians star hit a m…\n",
            "\n",
            "Clean tweet:\n",
            " RT India head coach RaviShastri has urged SuryakumarYadav to remain strong and patient after the Mumbai Indians star hit a m\n",
            "\n",
            "Sentiment of the tweet:\n",
            " Positive\n"
          ],
          "name": "stdout"
        }
      ]
    },
    {
      "cell_type": "code",
      "metadata": {
        "id": "_TTjA27bfO_5",
        "outputId": "46c82426-4ea5-4295-ed21-e796cf508e75",
        "colab": {
          "base_uri": "https://localhost:8080/"
        }
      },
      "source": [
        "n = 20\n",
        "print(\"Original tweet:\\n\",df['Tweets'][n])\n",
        "print()\n",
        "print(\"Clean tweet:\\n\",df['clean_tweet'][n])\n",
        "print()\n",
        "print(\"Sentiment of the tweet:\\n\",df['Sentiment'][n])"
      ],
      "execution_count": 17,
      "outputs": [
        {
          "output_type": "stream",
          "text": [
            "Original tweet:\n",
            " RT @CricketNDTV: Social media was awash with accolades for #SuryakumarYadav whose unbeaten 79, two days after being omitted from the #India…\n",
            "\n",
            "Clean tweet:\n",
            " RT Social media was awash with accolades for SuryakumarYadav whose unbeaten 79 two days after being omitted from the India\n",
            "\n",
            "Sentiment of the tweet:\n",
            " Positive\n"
          ],
          "name": "stdout"
        }
      ]
    },
    {
      "cell_type": "code",
      "metadata": {
        "id": "VZYsjG3fgBrL",
        "outputId": "75263132-07c6-444a-9570-759354d201b5",
        "colab": {
          "base_uri": "https://localhost:8080/"
        }
      },
      "source": [
        "n = 203\n",
        "print(\"Original tweet:\\n\",df['Tweets'][n])\n",
        "print()\n",
        "print(\"Clean tweet:\\n\",df['clean_tweet'][n])\n",
        "print()\n",
        "print(\"Sentiment of the tweet:\\n\",df['Sentiment'][n])"
      ],
      "execution_count": 18,
      "outputs": [
        {
          "output_type": "stream",
          "text": [
            "Original tweet:\n",
            " RT @Trendulkar: Rohit Sharma is not in the Australia tour squad. So he is out of the IPL too then? So RCB is winning the final against MI?…\n",
            "\n",
            "Clean tweet:\n",
            " RT Rohit Sharma is not in the Australia tour squad So he is out of the IPL too then So RCB is winning the final against MI\n",
            "\n",
            "Sentiment of the tweet:\n",
            " Positive\n"
          ],
          "name": "stdout"
        }
      ]
    },
    {
      "cell_type": "code",
      "metadata": {
        "id": "5R8oRMXXgEEF",
        "outputId": "f7928ed8-2979-4d20-9ccf-13f94a976818",
        "colab": {
          "base_uri": "https://localhost:8080/"
        }
      },
      "source": [
        "df[df.Sentiment == 'Positive'].shape[0]"
      ],
      "execution_count": 19,
      "outputs": [
        {
          "output_type": "execute_result",
          "data": {
            "text/plain": [
              "561"
            ]
          },
          "metadata": {
            "tags": []
          },
          "execution_count": 19
        }
      ]
    },
    {
      "cell_type": "code",
      "metadata": {
        "id": "omZhhWgugGKZ",
        "outputId": "9c58edbd-3376-4bcd-978b-f7d6a59ca69b",
        "colab": {
          "base_uri": "https://localhost:8080/"
        }
      },
      "source": [
        "df[df.Sentiment == 'Neutral'].shape[0]"
      ],
      "execution_count": 20,
      "outputs": [
        {
          "output_type": "execute_result",
          "data": {
            "text/plain": [
              "45"
            ]
          },
          "metadata": {
            "tags": []
          },
          "execution_count": 20
        }
      ]
    },
    {
      "cell_type": "code",
      "metadata": {
        "id": "fxiPfI80gIHG",
        "outputId": "44eef1cb-1c24-4299-c4ff-86ca8b8b6669",
        "colab": {
          "base_uri": "https://localhost:8080/"
        }
      },
      "source": [
        "df[df.Sentiment == 'Negative'].shape[0]"
      ],
      "execution_count": 21,
      "outputs": [
        {
          "output_type": "execute_result",
          "data": {
            "text/plain": [
              "40"
            ]
          },
          "metadata": {
            "tags": []
          },
          "execution_count": 21
        }
      ]
    },
    {
      "cell_type": "code",
      "metadata": {
        "id": "i-41jN8kgJ6z"
      },
      "source": [
        ""
      ],
      "execution_count": null,
      "outputs": []
    }
  ]
}